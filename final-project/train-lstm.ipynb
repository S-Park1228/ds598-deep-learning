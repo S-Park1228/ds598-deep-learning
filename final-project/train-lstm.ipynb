{
 "cells": [
  {
   "cell_type": "markdown",
   "metadata": {},
   "source": [
    "### 1. Import necessary modules"
   ]
  },
  {
   "cell_type": "code",
   "execution_count": 1,
   "metadata": {},
   "outputs": [],
   "source": [
    "import os\n",
    "import numpy as np\n",
    "import pandas as pd\n",
    "\n",
    "import torch\n",
    "from torch.utils.data import DataLoader\n",
    "import torch.autograd as autograd\n",
    "import torch.nn as nn\n",
    "import torch.optim as optim\n",
    "import tqdm\n",
    "\n",
    "import matplotlib.pyplot as plt"
   ]
  },
  {
   "cell_type": "code",
   "execution_count": 2,
   "metadata": {},
   "outputs": [],
   "source": [
    "device = torch.device(\"cuda:0\" if torch.cuda.is_available() else \"cpu\")"
   ]
  },
  {
   "cell_type": "markdown",
   "metadata": {},
   "source": [
    "### 2. Load and split data"
   ]
  },
  {
   "cell_type": "code",
   "execution_count": 3,
   "metadata": {},
   "outputs": [],
   "source": [
    "# load data\n",
    "input_data_dir = './data/lstm-inputs.pt'\n",
    "target_data_dir = './data/lstm-target.pt'\n",
    "\n",
    "input = torch.load(input_data_dir)\n",
    "target = torch.load(target_data_dir)"
   ]
  },
  {
   "cell_type": "code",
   "execution_count": 4,
   "metadata": {},
   "outputs": [],
   "source": [
    "# split data into training, validation and test\n",
    "# training data (1980~2015)\n",
    "train_end = 12*(2015-1980)+1\n",
    "# train_input_list = input[12:train_end].tolist()\n",
    "# train_ar_list = input[0:train_end-12].tolist()\n",
    "# train_target_list = target[12:train_end].tolist()\n",
    "train_list = [(input[i+12], target[i], target[i+12]) for i in range(train_end-12)]\n",
    "train_dataloader = DataLoader(train_list)\n",
    "\n",
    "# validation data (2016~2018)\n",
    "val_end = 12*(2018-2015)\n",
    "# val_input_list = input[train_end:val_end].tolist()\n",
    "# val_target_list = target[train_end:val_end].tolist()\n",
    "val_list = [(input[train_end+i], target[train_end+i-12], target[train_end+i]) for i in range(val_end)]\n",
    "val_dataloader = DataLoader(val_list)\n",
    "\n",
    "# test data (2019)\n",
    "# test_input_list = input[val_end:].tolist()\n",
    "# test_target_list = target[val_end:].tolist()\n",
    "test_list = [(input[train_end+val_end+i], target[train_end+val_end+i-12], target[train_end+val_end+i]) for i in range(12)]\n",
    "test_dataloader = DataLoader(test_list)"
   ]
  },
  {
   "cell_type": "code",
   "execution_count": 5,
   "metadata": {},
   "outputs": [],
   "source": [
    "# Define months\n",
    "train_start_month = []\n",
    "for i in range(train_end):\n",
    "    train_start_month.append(i%12+1)\n",
    "\n",
    "val_start_month = []\n",
    "for i in range(val_end):\n",
    "    val_start_month.append(i%12+1)\n",
    "\n",
    "test_start_month = []\n",
    "for i in range(12):\n",
    "    test_start_month.append(i%12+1)"
   ]
  },
  {
   "cell_type": "markdown",
   "metadata": {},
   "source": [
    "### 3. LSTM"
   ]
  },
  {
   "cell_type": "code",
   "execution_count": 6,
   "metadata": {},
   "outputs": [],
   "source": [
    "class CropYieldPredictor(nn.Module):\n",
    "\n",
    "    def __init__(self, input_dim, hidden_dim, max_length =12):\n",
    "        super(CropYieldPredictor, self).__init__()\n",
    "        self.hidden_dim = hidden_dim\n",
    "        self.max_length = max_length\n",
    "        self.pos_enc = self._generate_pos_enc(input_dim, max_length=12)\n",
    "        self.compression = nn.Linear(input_dim, hidden_dim)\n",
    "        self.lstm = nn.LSTM(hidden_dim, hidden_dim)\n",
    "        self.hidden2yield = nn.Linear(hidden_dim+1, 1)\n",
    "        self.hidden = self.init_hidden()\n",
    "\n",
    "    def init_hidden(self):\n",
    "        # the first is the hidden \"h\"\n",
    "        # the second is the cell \"c\"\n",
    "        return (autograd.Variable(torch.zeros(1, 12, self.hidden_dim)),\n",
    "                autograd.Variable(torch.zeros(1, 12, self.hidden_dim)))\n",
    "\n",
    "    @torch.no_grad()\n",
    "    def _generate_pos_enc(self, hidden_dim, max_length=12):\n",
    "        enc = torch.FloatTensor(max_length, hidden_dim).zero_() # Do not be confused with EncoderBlock.\n",
    "                                                                 # It means an input matrix.\n",
    "        # |enc| = (max_length=12, hidden_dim)\n",
    "\n",
    "        pos = torch.arange(0, max_length).unsqueeze(-1).float() # column info of input matrix\n",
    "        dim = torch.arange(0, hidden_dim // 2).unsqueeze(0).float() # row info of input matrix\n",
    "        # |pos| = (max_length=12, 1)\n",
    "        # |dim| = (1, hidden_dim // 2)\n",
    "\n",
    "        enc[:, 0::2] = torch.sin(pos / 1e+4**dim.div(float(hidden_dim))) # dimensions which are even numbers\n",
    "        enc[:, 1::2] = torch.cos(pos / 1e+4**dim.div(float(hidden_dim))) # dimensions which are odd numbers\n",
    "\n",
    "        return enc\n",
    "\n",
    "    def _position_encoding(self, x, start_month, init_pos=0):\n",
    "        # |x| = (batch_size, length=12, hidden_dim)\n",
    "        # |self.pos_enc| = (max_length=12, hidden_dim)\n",
    "        assert x.size(-1) == self.pos_enc.size(-1)\n",
    "        assert x.size(1) + init_pos <= self.max_length\n",
    "\n",
    "        # |pos_enc| = (1, length, hidden_dim)\n",
    "        pos_enc = self.pos_enc[init_pos:init_pos + x.size(1)].unsqueeze(0) # x.size(1) = length\n",
    "                                                                           # training -> self.pos_enc[0:length]\n",
    "                                                                           # Else, init_pos must be given!\n",
    "        # in case input resnet features do not start with values of January\n",
    "        if start_month != 1:\n",
    "            first_half = pos_enc[:, start_month-1:, :]\n",
    "            second_half = pos_enc[:, :start_month-1, :]\n",
    "            pos_enc = torch.concat((first_half, second_half), dim=1)\n",
    "        x = x + pos_enc.to(x.device) # Since |x| = (batch_size, length, hidden_dim), this line applies broadcasting.\n",
    "\n",
    "        return x\n",
    "\n",
    "    def forward(self, resnet_features, ar_term, start_month):\n",
    "        x = self._position_encoding(resnet_features, start_month)\n",
    "        x = self.compression(x)\n",
    "        lstm_out, self.hidden = self.lstm(x, self.hidden)\n",
    "        ar_term = torch.tensor([[ar_term]])\n",
    "        crop_yield  = self.hidden2yield(torch.concat((lstm_out[:,-1,:], ar_term), dim=1))\n",
    "        return crop_yield"
   ]
  },
  {
   "cell_type": "markdown",
   "metadata": {},
   "source": [
    "### 4. Train"
   ]
  },
  {
   "cell_type": "code",
   "execution_count": 32,
   "metadata": {},
   "outputs": [],
   "source": [
    "PATH_FOR_BEST_MODELS = './best_models'\n",
    "\n",
    "if not os.path.exists(PATH_FOR_BEST_MODELS):\n",
    "    os.makedirs(PATH_FOR_BEST_MODELS)\n",
    "\n",
    "# training hyperparameters\n",
    "# NUM_EPOCHS, HIDDEN_DIM, loss function, optimizer, lr\n",
    "def train(epochs=30, hiddendim=64, lossfcn=\"mse\", opt=\"adam\", lr=1e-3):\n",
    "    HIDDEN_DIM = hiddendim\n",
    "    model = CropYieldPredictor(input_dim=input.shape[2], hidden_dim=HIDDEN_DIM).to(device)\n",
    "    NUM_EPOCH = epochs\n",
    "    loss_func_types = dict(\n",
    "        mse=nn.MSELoss(),\n",
    "        mae=nn.L1Loss()\n",
    "    )\n",
    "    loss_fcn = loss_func_types[lossfcn]\n",
    "    lr = lr\n",
    "    optimizers = dict(\n",
    "        sgd = optim.SGD(model.parameters(), lr = lr),\n",
    "        adam = optim.Adam(model.parameters(), lr = lr)\n",
    "    )\n",
    "    optimizer = optimizers[opt]\n",
    "    BEST_MODEL_PATH = f\"./best_models/epochs_{epochs}-hiddendim_{hiddendim}-lossfcn_{lossfcn}-opt_{opt}-lr_{lr}.pth\"\n",
    "    best_mse = float('inf')\n",
    "    \n",
    "    history_train = []\n",
    "    history_val = []\n",
    "    \n",
    "    for epoch in range(1, NUM_EPOCH+1):\n",
    "        model.train()\n",
    "        cum_mse = 0\n",
    "        cnt = 0\n",
    "        with tqdm.tqdm(train_dataloader, unit=\"batch\") as tepoch:\n",
    "            for resnet_features, ar_term, target in tepoch:\n",
    "                tepoch.set_description(f\"Epoch {epoch}\")\n",
    "                \n",
    "                resnet_features, ar_term, target = resnet_features.to(device), ar_term.to(device), target.to(device)\n",
    "                model.hidden = model.init_hidden()\n",
    "                optimizer.zero_grad()\n",
    "                output = model(resnet_features, ar_term, train_start_month[cnt])\n",
    "                loss = loss_fcn(output, target)\n",
    "                loss.backward()\n",
    "                cum_mse += float(loss)\n",
    "                avg_mse = cum_mse/(cnt+1)\n",
    "                optimizer.step()\n",
    "                cnt += 1\n",
    "                tepoch.set_postfix(mse=avg_mse)\n",
    "        \n",
    "            history_train.append(avg_mse)\n",
    "\n",
    "        model.eval()\n",
    "        cum_mse_val = 0\n",
    "        cnt_val = 0\n",
    "        for resnet_features, ar_term, target in val_dataloader:\n",
    "            resnet_features, ar_term, target = resnet_features.to(device), ar_term.to(device), target.to(device)\n",
    "            model.hidden = model.init_hidden()\n",
    "            output = model(resnet_features, ar_term, val_start_month[cnt_val])\n",
    "            loss = loss_fcn(output, target)\n",
    "            cum_mse_val += float(loss)\n",
    "            cnt_val += 1\n",
    "        avg_mse_val = cum_mse_val/(cnt_val)\n",
    "        history_val.append(avg_mse_val)\n",
    "        if avg_mse_val < best_mse:\n",
    "            best_mse = avg_mse_val\n",
    "            torch.save(model.state_dict(), BEST_MODEL_PATH)\n",
    "            print(f\"Best model saved at Epoch {epoch}\")\n",
    "\n",
    "    print(\"MSE: %.2f\" % best_mse)\n",
    "    plt.plot(history_train, label=\"Training Loss\")\n",
    "    plt.plot(history_val, label=\"Validation Loss\")\n",
    "    plt.legend()\n",
    "    plt.show()"
   ]
  },
  {
   "cell_type": "code",
   "execution_count": 45,
   "metadata": {},
   "outputs": [
    {
     "name": "stderr",
     "output_type": "stream",
     "text": [
      "Epoch 1: 100%|██████████| 409/409 [00:08<00:00, 48.17batch/s, mse=0.0241]\n"
     ]
    },
    {
     "name": "stdout",
     "output_type": "stream",
     "text": [
      "Best model saved at Epoch 1\n"
     ]
    },
    {
     "name": "stderr",
     "output_type": "stream",
     "text": [
      "Epoch 2: 100%|██████████| 409/409 [00:08<00:00, 48.93batch/s, mse=0.0355]\n"
     ]
    },
    {
     "name": "stdout",
     "output_type": "stream",
     "text": [
      "Best model saved at Epoch 2\n"
     ]
    },
    {
     "name": "stderr",
     "output_type": "stream",
     "text": [
      "Epoch 3: 100%|██████████| 409/409 [00:08<00:00, 49.54batch/s, mse=0.0384]\n"
     ]
    },
    {
     "name": "stdout",
     "output_type": "stream",
     "text": [
      "Best model saved at Epoch 3\n"
     ]
    },
    {
     "name": "stderr",
     "output_type": "stream",
     "text": [
      "Epoch 4: 100%|██████████| 409/409 [00:08<00:00, 48.47batch/s, mse=0.0396]\n"
     ]
    },
    {
     "name": "stdout",
     "output_type": "stream",
     "text": [
      "Best model saved at Epoch 4\n"
     ]
    },
    {
     "name": "stderr",
     "output_type": "stream",
     "text": [
      "Epoch 5: 100%|██████████| 409/409 [00:08<00:00, 47.23batch/s, mse=0.0401]\n"
     ]
    },
    {
     "name": "stdout",
     "output_type": "stream",
     "text": [
      "Best model saved at Epoch 5\n"
     ]
    },
    {
     "name": "stderr",
     "output_type": "stream",
     "text": [
      "Epoch 6: 100%|██████████| 409/409 [00:08<00:00, 46.75batch/s, mse=0.0403]\n"
     ]
    },
    {
     "name": "stdout",
     "output_type": "stream",
     "text": [
      "Best model saved at Epoch 6\n"
     ]
    },
    {
     "name": "stderr",
     "output_type": "stream",
     "text": [
      "Epoch 7: 100%|██████████| 409/409 [00:09<00:00, 45.40batch/s, mse=0.0403]\n"
     ]
    },
    {
     "name": "stdout",
     "output_type": "stream",
     "text": [
      "Best model saved at Epoch 7\n"
     ]
    },
    {
     "name": "stderr",
     "output_type": "stream",
     "text": [
      "Epoch 8: 100%|██████████| 409/409 [00:09<00:00, 44.15batch/s, mse=0.0405]\n"
     ]
    },
    {
     "name": "stdout",
     "output_type": "stream",
     "text": [
      "Best model saved at Epoch 8\n"
     ]
    },
    {
     "name": "stderr",
     "output_type": "stream",
     "text": [
      "Epoch 9: 100%|██████████| 409/409 [00:08<00:00, 46.26batch/s, mse=0.0404]\n"
     ]
    },
    {
     "name": "stdout",
     "output_type": "stream",
     "text": [
      "Best model saved at Epoch 9\n"
     ]
    },
    {
     "name": "stderr",
     "output_type": "stream",
     "text": [
      "Epoch 10: 100%|██████████| 409/409 [00:09<00:00, 45.40batch/s, mse=0.0404]\n"
     ]
    },
    {
     "name": "stdout",
     "output_type": "stream",
     "text": [
      "Best model saved at Epoch 10\n"
     ]
    },
    {
     "name": "stderr",
     "output_type": "stream",
     "text": [
      "Epoch 11: 100%|██████████| 409/409 [00:09<00:00, 44.19batch/s, mse=0.0403]\n"
     ]
    },
    {
     "name": "stdout",
     "output_type": "stream",
     "text": [
      "Best model saved at Epoch 11\n"
     ]
    },
    {
     "name": "stderr",
     "output_type": "stream",
     "text": [
      "Epoch 12: 100%|██████████| 409/409 [00:09<00:00, 45.30batch/s, mse=0.0402]\n"
     ]
    },
    {
     "name": "stdout",
     "output_type": "stream",
     "text": [
      "Best model saved at Epoch 12\n"
     ]
    },
    {
     "name": "stderr",
     "output_type": "stream",
     "text": [
      "Epoch 13: 100%|██████████| 409/409 [00:08<00:00, 45.90batch/s, mse=0.0401]\n"
     ]
    },
    {
     "name": "stdout",
     "output_type": "stream",
     "text": [
      "Best model saved at Epoch 13\n"
     ]
    },
    {
     "name": "stderr",
     "output_type": "stream",
     "text": [
      "Epoch 14: 100%|██████████| 409/409 [00:09<00:00, 43.50batch/s, mse=0.0399]\n"
     ]
    },
    {
     "name": "stdout",
     "output_type": "stream",
     "text": [
      "Best model saved at Epoch 14\n"
     ]
    },
    {
     "name": "stderr",
     "output_type": "stream",
     "text": [
      "Epoch 15: 100%|██████████| 409/409 [00:10<00:00, 37.71batch/s, mse=0.0398]\n"
     ]
    },
    {
     "name": "stdout",
     "output_type": "stream",
     "text": [
      "Best model saved at Epoch 15\n"
     ]
    },
    {
     "name": "stderr",
     "output_type": "stream",
     "text": [
      "Epoch 16: 100%|██████████| 409/409 [00:09<00:00, 43.74batch/s, mse=0.0397]\n"
     ]
    },
    {
     "name": "stdout",
     "output_type": "stream",
     "text": [
      "Best model saved at Epoch 16\n"
     ]
    },
    {
     "name": "stderr",
     "output_type": "stream",
     "text": [
      "Epoch 17: 100%|██████████| 409/409 [00:09<00:00, 42.70batch/s, mse=0.0396]\n"
     ]
    },
    {
     "name": "stdout",
     "output_type": "stream",
     "text": [
      "Best model saved at Epoch 17\n"
     ]
    },
    {
     "name": "stderr",
     "output_type": "stream",
     "text": [
      "Epoch 18: 100%|██████████| 409/409 [00:09<00:00, 41.14batch/s, mse=0.0395]\n"
     ]
    },
    {
     "name": "stdout",
     "output_type": "stream",
     "text": [
      "Best model saved at Epoch 18\n"
     ]
    },
    {
     "name": "stderr",
     "output_type": "stream",
     "text": [
      "Epoch 19: 100%|██████████| 409/409 [00:09<00:00, 43.40batch/s, mse=0.0394]\n"
     ]
    },
    {
     "name": "stdout",
     "output_type": "stream",
     "text": [
      "Best model saved at Epoch 19\n"
     ]
    },
    {
     "name": "stderr",
     "output_type": "stream",
     "text": [
      "Epoch 20: 100%|██████████| 409/409 [00:09<00:00, 42.43batch/s, mse=0.0392]\n"
     ]
    },
    {
     "name": "stdout",
     "output_type": "stream",
     "text": [
      "Best model saved at Epoch 20\n"
     ]
    },
    {
     "name": "stderr",
     "output_type": "stream",
     "text": [
      "Epoch 21: 100%|██████████| 409/409 [00:09<00:00, 43.12batch/s, mse=0.0391]\n"
     ]
    },
    {
     "name": "stdout",
     "output_type": "stream",
     "text": [
      "Best model saved at Epoch 21\n"
     ]
    },
    {
     "name": "stderr",
     "output_type": "stream",
     "text": [
      "Epoch 22: 100%|██████████| 409/409 [00:08<00:00, 45.80batch/s, mse=0.039] \n"
     ]
    },
    {
     "name": "stdout",
     "output_type": "stream",
     "text": [
      "Best model saved at Epoch 22\n"
     ]
    },
    {
     "name": "stderr",
     "output_type": "stream",
     "text": [
      "Epoch 23: 100%|██████████| 409/409 [00:08<00:00, 46.38batch/s, mse=0.0389]\n"
     ]
    },
    {
     "name": "stdout",
     "output_type": "stream",
     "text": [
      "Best model saved at Epoch 23\n"
     ]
    },
    {
     "name": "stderr",
     "output_type": "stream",
     "text": [
      "Epoch 24: 100%|██████████| 409/409 [00:09<00:00, 45.43batch/s, mse=0.0388]\n"
     ]
    },
    {
     "name": "stdout",
     "output_type": "stream",
     "text": [
      "Best model saved at Epoch 24\n"
     ]
    },
    {
     "name": "stderr",
     "output_type": "stream",
     "text": [
      "Epoch 25: 100%|██████████| 409/409 [00:08<00:00, 46.52batch/s, mse=0.0387]\n"
     ]
    },
    {
     "name": "stdout",
     "output_type": "stream",
     "text": [
      "Best model saved at Epoch 25\n"
     ]
    },
    {
     "name": "stderr",
     "output_type": "stream",
     "text": [
      "Epoch 26: 100%|██████████| 409/409 [00:08<00:00, 45.63batch/s, mse=0.0386]\n"
     ]
    },
    {
     "name": "stdout",
     "output_type": "stream",
     "text": [
      "Best model saved at Epoch 26\n"
     ]
    },
    {
     "name": "stderr",
     "output_type": "stream",
     "text": [
      "Epoch 27: 100%|██████████| 409/409 [00:08<00:00, 45.50batch/s, mse=0.0385]\n"
     ]
    },
    {
     "name": "stdout",
     "output_type": "stream",
     "text": [
      "Best model saved at Epoch 27\n"
     ]
    },
    {
     "name": "stderr",
     "output_type": "stream",
     "text": [
      "Epoch 28: 100%|██████████| 409/409 [00:08<00:00, 46.35batch/s, mse=0.0384]\n"
     ]
    },
    {
     "name": "stdout",
     "output_type": "stream",
     "text": [
      "Best model saved at Epoch 28\n"
     ]
    },
    {
     "name": "stderr",
     "output_type": "stream",
     "text": [
      "Epoch 29: 100%|██████████| 409/409 [00:08<00:00, 45.96batch/s, mse=0.0383]\n"
     ]
    },
    {
     "name": "stdout",
     "output_type": "stream",
     "text": [
      "Best model saved at Epoch 29\n"
     ]
    },
    {
     "name": "stderr",
     "output_type": "stream",
     "text": [
      "Epoch 30: 100%|██████████| 409/409 [00:08<00:00, 46.33batch/s, mse=0.0386]\n",
      "Epoch 31: 100%|██████████| 409/409 [00:08<00:00, 46.11batch/s, mse=0.0345]\n",
      "Epoch 32: 100%|██████████| 409/409 [00:08<00:00, 45.64batch/s, mse=0.0365]\n",
      "Epoch 33: 100%|██████████| 409/409 [00:08<00:00, 46.85batch/s, mse=0.0369]\n",
      "Epoch 34: 100%|██████████| 409/409 [00:08<00:00, 45.53batch/s, mse=0.0371]\n",
      "Epoch 35: 100%|██████████| 409/409 [00:08<00:00, 47.05batch/s, mse=0.0372]\n",
      "Epoch 36: 100%|██████████| 409/409 [00:07<00:00, 52.28batch/s, mse=0.0372]\n",
      "Epoch 37: 100%|██████████| 409/409 [00:08<00:00, 50.57batch/s, mse=0.0372]\n",
      "Epoch 38: 100%|██████████| 409/409 [00:08<00:00, 47.78batch/s, mse=0.0372]\n",
      "Epoch 39: 100%|██████████| 409/409 [00:08<00:00, 48.31batch/s, mse=0.0371]\n",
      "Epoch 40: 100%|██████████| 409/409 [00:08<00:00, 48.14batch/s, mse=0.0371]\n",
      "Epoch 41: 100%|██████████| 409/409 [00:08<00:00, 48.13batch/s, mse=0.037] \n",
      "Epoch 42: 100%|██████████| 409/409 [00:08<00:00, 48.23batch/s, mse=0.0369]\n",
      "Epoch 43: 100%|██████████| 409/409 [00:08<00:00, 48.31batch/s, mse=0.0369]\n",
      "Epoch 44: 100%|██████████| 409/409 [00:08<00:00, 48.40batch/s, mse=0.0368]\n",
      "Epoch 45: 100%|██████████| 409/409 [00:08<00:00, 49.22batch/s, mse=0.0368]\n",
      "Epoch 46: 100%|██████████| 409/409 [00:08<00:00, 48.39batch/s, mse=0.0367]\n",
      "Epoch 47: 100%|██████████| 409/409 [00:08<00:00, 48.48batch/s, mse=0.0366]\n",
      "Epoch 48: 100%|██████████| 409/409 [00:08<00:00, 48.49batch/s, mse=0.0366]\n",
      "Epoch 49: 100%|██████████| 409/409 [00:08<00:00, 49.13batch/s, mse=0.0365]\n",
      "Epoch 50: 100%|██████████| 409/409 [00:08<00:00, 48.23batch/s, mse=0.0365]\n",
      "Epoch 51: 100%|██████████| 409/409 [00:08<00:00, 48.95batch/s, mse=0.0364]\n",
      "Epoch 52: 100%|██████████| 409/409 [00:08<00:00, 49.32batch/s, mse=0.0363]\n",
      "Epoch 53: 100%|██████████| 409/409 [00:08<00:00, 48.49batch/s, mse=0.0363]\n",
      "Epoch 54: 100%|██████████| 409/409 [00:08<00:00, 48.58batch/s, mse=0.0362]\n",
      "Epoch 55: 100%|██████████| 409/409 [00:08<00:00, 48.42batch/s, mse=0.0362]\n",
      "Epoch 56: 100%|██████████| 409/409 [00:08<00:00, 48.48batch/s, mse=0.0361]\n",
      "Epoch 57: 100%|██████████| 409/409 [00:08<00:00, 49.13batch/s, mse=0.0361]\n",
      "Epoch 58: 100%|██████████| 409/409 [00:08<00:00, 49.49batch/s, mse=0.036] \n",
      "Epoch 59: 100%|██████████| 409/409 [00:08<00:00, 48.58batch/s, mse=0.036] \n",
      "Epoch 60: 100%|██████████| 409/409 [00:08<00:00, 49.53batch/s, mse=0.0359]\n",
      "Epoch 61: 100%|██████████| 409/409 [00:08<00:00, 48.23batch/s, mse=0.0359]\n",
      "Epoch 62: 100%|██████████| 409/409 [00:08<00:00, 48.58batch/s, mse=0.0358]\n",
      "Epoch 63: 100%|██████████| 409/409 [00:08<00:00, 47.69batch/s, mse=0.0358]\n",
      "Epoch 64: 100%|██████████| 409/409 [00:08<00:00, 48.41batch/s, mse=0.0357]\n",
      "Epoch 65: 100%|██████████| 409/409 [00:08<00:00, 48.22batch/s, mse=0.0357]\n",
      "Epoch 66: 100%|██████████| 409/409 [00:08<00:00, 48.12batch/s, mse=0.0356]\n",
      "Epoch 67: 100%|██████████| 409/409 [00:08<00:00, 48.87batch/s, mse=0.0356]\n",
      "Epoch 68: 100%|██████████| 409/409 [00:08<00:00, 48.22batch/s, mse=0.0355]\n",
      "Epoch 69: 100%|██████████| 409/409 [00:08<00:00, 48.40batch/s, mse=0.0355]\n",
      "Epoch 70: 100%|██████████| 409/409 [00:08<00:00, 48.32batch/s, mse=0.0354]\n",
      "Epoch 71: 100%|██████████| 409/409 [00:08<00:00, 48.76batch/s, mse=0.0354]\n",
      "Epoch 72: 100%|██████████| 409/409 [00:08<00:00, 47.48batch/s, mse=0.0354]\n",
      "Epoch 73: 100%|██████████| 409/409 [00:08<00:00, 48.78batch/s, mse=0.0353]\n",
      "Epoch 74: 100%|██████████| 409/409 [00:08<00:00, 49.06batch/s, mse=0.0353]\n",
      "Epoch 75: 100%|██████████| 409/409 [00:08<00:00, 49.21batch/s, mse=0.0352]\n",
      "Epoch 76: 100%|██████████| 409/409 [00:08<00:00, 48.07batch/s, mse=0.0352]\n",
      "Epoch 77: 100%|██████████| 409/409 [00:08<00:00, 47.11batch/s, mse=0.0352]\n",
      "Epoch 78: 100%|██████████| 409/409 [00:08<00:00, 48.58batch/s, mse=0.0351]\n",
      "Epoch 79: 100%|██████████| 409/409 [00:08<00:00, 48.19batch/s, mse=0.0351]\n",
      "Epoch 80: 100%|██████████| 409/409 [00:08<00:00, 48.49batch/s, mse=0.035] \n",
      "Epoch 81: 100%|██████████| 409/409 [00:08<00:00, 47.61batch/s, mse=0.035] \n",
      "Epoch 82: 100%|██████████| 409/409 [00:08<00:00, 48.95batch/s, mse=0.035] \n",
      "Epoch 83: 100%|██████████| 409/409 [00:08<00:00, 48.85batch/s, mse=0.0349]\n",
      "Epoch 84: 100%|██████████| 409/409 [00:08<00:00, 48.42batch/s, mse=0.0349]\n",
      "Epoch 85: 100%|██████████| 409/409 [00:08<00:00, 46.95batch/s, mse=0.0349]\n",
      "Epoch 86: 100%|██████████| 409/409 [00:08<00:00, 48.06batch/s, mse=0.0348]\n",
      "Epoch 87: 100%|██████████| 409/409 [00:08<00:00, 48.19batch/s, mse=0.0348]\n",
      "Epoch 88: 100%|██████████| 409/409 [00:08<00:00, 47.71batch/s, mse=0.0348]\n",
      "Epoch 89: 100%|██████████| 409/409 [00:08<00:00, 48.89batch/s, mse=0.0347]\n",
      "Epoch 90: 100%|██████████| 409/409 [00:08<00:00, 49.23batch/s, mse=0.0347]\n",
      "Epoch 91: 100%|██████████| 409/409 [00:08<00:00, 47.83batch/s, mse=0.0347]\n",
      "Epoch 92: 100%|██████████| 409/409 [00:08<00:00, 47.83batch/s, mse=0.0346]\n",
      "Epoch 93: 100%|██████████| 409/409 [00:08<00:00, 47.34batch/s, mse=0.0346]\n",
      "Epoch 94: 100%|██████████| 409/409 [00:08<00:00, 47.42batch/s, mse=0.0346]\n",
      "Epoch 95: 100%|██████████| 409/409 [00:08<00:00, 47.53batch/s, mse=0.0345]\n",
      "Epoch 96: 100%|██████████| 409/409 [00:08<00:00, 47.94batch/s, mse=0.0345]\n",
      "Epoch 97: 100%|██████████| 409/409 [00:08<00:00, 47.68batch/s, mse=0.0345]\n",
      "Epoch 98: 100%|██████████| 409/409 [00:08<00:00, 48.78batch/s, mse=0.0345]\n",
      "Epoch 99: 100%|██████████| 409/409 [00:08<00:00, 48.55batch/s, mse=0.0344]\n",
      "Epoch 100: 100%|██████████| 409/409 [00:08<00:00, 47.86batch/s, mse=0.0344]\n"
     ]
    },
    {
     "name": "stdout",
     "output_type": "stream",
     "text": [
      "MSE: 0.01\n"
     ]
    },
    {
     "data": {
      "image/png": "[encoded data removed]",
      "text/plain": [
       "<Figure size 640x480 with 1 Axes>"
      ]
     },
     "metadata": {},
     "output_type": "display_data"
    }
   ],
   "source": [
    "train(epochs=100, hiddendim=512, lossfcn='mse', opt='adam', lr=1e-3)"
   ]
  },
  {
   "cell_type": "code",
   "execution_count": 43,
   "metadata": {},
   "outputs": [
    {
     "name": "stderr",
     "output_type": "stream",
     "text": [
      "Epoch 1: 100%|██████████| 409/409 [00:03<00:00, 116.07batch/s, mse=0.0196]\n"
     ]
    },
    {
     "name": "stdout",
     "output_type": "stream",
     "text": [
      "Best model saved at Epoch 1\n"
     ]
    },
    {
     "name": "stderr",
     "output_type": "stream",
     "text": [
      "Epoch 2: 100%|██████████| 409/409 [00:03<00:00, 116.18batch/s, mse=0.0356]\n"
     ]
    },
    {
     "name": "stdout",
     "output_type": "stream",
     "text": [
      "Best model saved at Epoch 2\n"
     ]
    },
    {
     "name": "stderr",
     "output_type": "stream",
     "text": [
      "Epoch 3: 100%|██████████| 409/409 [00:03<00:00, 118.39batch/s, mse=0.0419]\n",
      "Epoch 4: 100%|██████████| 409/409 [00:03<00:00, 115.66batch/s, mse=0.0431]\n",
      "Epoch 5: 100%|██████████| 409/409 [00:03<00:00, 117.62batch/s, mse=0.0431]\n",
      "Epoch 6: 100%|██████████| 409/409 [00:03<00:00, 118.45batch/s, mse=0.043] \n",
      "Epoch 7: 100%|██████████| 409/409 [00:03<00:00, 119.27batch/s, mse=0.0428]\n",
      "Epoch 8: 100%|██████████| 409/409 [00:03<00:00, 118.51batch/s, mse=0.0426]\n",
      "Epoch 9: 100%|██████████| 409/409 [00:03<00:00, 120.01batch/s, mse=0.0424]\n",
      "Epoch 10: 100%|██████████| 409/409 [00:03<00:00, 118.71batch/s, mse=0.0421]\n",
      "Epoch 11: 100%|██████████| 409/409 [00:03<00:00, 118.76batch/s, mse=0.0419]\n",
      "Epoch 12: 100%|██████████| 409/409 [00:03<00:00, 115.84batch/s, mse=0.0416]\n",
      "Epoch 13: 100%|██████████| 409/409 [00:03<00:00, 112.03batch/s, mse=0.0413]\n",
      "Epoch 14: 100%|██████████| 409/409 [00:03<00:00, 111.02batch/s, mse=0.041] \n",
      "Epoch 15: 100%|██████████| 409/409 [00:03<00:00, 109.77batch/s, mse=0.0408]\n"
     ]
    },
    {
     "name": "stdout",
     "output_type": "stream",
     "text": [
      "Best model saved at Epoch 15\n"
     ]
    },
    {
     "name": "stderr",
     "output_type": "stream",
     "text": [
      "Epoch 16: 100%|██████████| 409/409 [00:03<00:00, 107.12batch/s, mse=0.0405]\n"
     ]
    },
    {
     "name": "stdout",
     "output_type": "stream",
     "text": [
      "Best model saved at Epoch 16\n"
     ]
    },
    {
     "name": "stderr",
     "output_type": "stream",
     "text": [
      "Epoch 17: 100%|██████████| 409/409 [00:03<00:00, 107.77batch/s, mse=0.0403]\n"
     ]
    },
    {
     "name": "stdout",
     "output_type": "stream",
     "text": [
      "Best model saved at Epoch 17\n"
     ]
    },
    {
     "name": "stderr",
     "output_type": "stream",
     "text": [
      "Epoch 18: 100%|██████████| 409/409 [00:03<00:00, 107.94batch/s, mse=0.04]  \n"
     ]
    },
    {
     "name": "stdout",
     "output_type": "stream",
     "text": [
      "Best model saved at Epoch 18\n"
     ]
    },
    {
     "name": "stderr",
     "output_type": "stream",
     "text": [
      "Epoch 19: 100%|██████████| 409/409 [00:03<00:00, 103.98batch/s, mse=0.0398]\n"
     ]
    },
    {
     "name": "stdout",
     "output_type": "stream",
     "text": [
      "Best model saved at Epoch 19\n"
     ]
    },
    {
     "name": "stderr",
     "output_type": "stream",
     "text": [
      "Epoch 20: 100%|██████████| 409/409 [00:03<00:00, 106.44batch/s, mse=0.0396]\n"
     ]
    },
    {
     "name": "stdout",
     "output_type": "stream",
     "text": [
      "Best model saved at Epoch 20\n"
     ]
    },
    {
     "name": "stderr",
     "output_type": "stream",
     "text": [
      "Epoch 21: 100%|██████████| 409/409 [00:03<00:00, 109.60batch/s, mse=0.0393]\n",
      "Epoch 22: 100%|██████████| 409/409 [00:03<00:00, 107.74batch/s, mse=0.0392]\n"
     ]
    },
    {
     "name": "stdout",
     "output_type": "stream",
     "text": [
      "Best model saved at Epoch 22\n"
     ]
    },
    {
     "name": "stderr",
     "output_type": "stream",
     "text": [
      "Epoch 23: 100%|██████████| 409/409 [00:03<00:00, 107.35batch/s, mse=0.0389]\n",
      "Epoch 24: 100%|██████████| 409/409 [00:03<00:00, 108.52batch/s, mse=0.0388]\n"
     ]
    },
    {
     "name": "stdout",
     "output_type": "stream",
     "text": [
      "Best model saved at Epoch 24\n"
     ]
    },
    {
     "name": "stderr",
     "output_type": "stream",
     "text": [
      "Epoch 25: 100%|██████████| 409/409 [00:03<00:00, 106.71batch/s, mse=0.0386]\n"
     ]
    },
    {
     "name": "stdout",
     "output_type": "stream",
     "text": [
      "Best model saved at Epoch 25\n"
     ]
    },
    {
     "name": "stderr",
     "output_type": "stream",
     "text": [
      "Epoch 26: 100%|██████████| 409/409 [00:03<00:00, 106.32batch/s, mse=0.0384]\n"
     ]
    },
    {
     "name": "stdout",
     "output_type": "stream",
     "text": [
      "Best model saved at Epoch 26\n"
     ]
    },
    {
     "name": "stderr",
     "output_type": "stream",
     "text": [
      "Epoch 27: 100%|██████████| 409/409 [00:03<00:00, 107.97batch/s, mse=0.0382]\n"
     ]
    },
    {
     "name": "stdout",
     "output_type": "stream",
     "text": [
      "Best model saved at Epoch 27\n"
     ]
    },
    {
     "name": "stderr",
     "output_type": "stream",
     "text": [
      "Epoch 28: 100%|██████████| 409/409 [00:03<00:00, 107.44batch/s, mse=0.0379]\n"
     ]
    },
    {
     "name": "stdout",
     "output_type": "stream",
     "text": [
      "Best model saved at Epoch 28\n"
     ]
    },
    {
     "name": "stderr",
     "output_type": "stream",
     "text": [
      "Epoch 29: 100%|██████████| 409/409 [00:03<00:00, 108.77batch/s, mse=0.0377]\n"
     ]
    },
    {
     "name": "stdout",
     "output_type": "stream",
     "text": [
      "Best model saved at Epoch 29\n"
     ]
    },
    {
     "name": "stderr",
     "output_type": "stream",
     "text": [
      "Epoch 30: 100%|██████████| 409/409 [00:03<00:00, 107.89batch/s, mse=0.0375]\n"
     ]
    },
    {
     "name": "stdout",
     "output_type": "stream",
     "text": [
      "Best model saved at Epoch 30\n"
     ]
    },
    {
     "name": "stderr",
     "output_type": "stream",
     "text": [
      "Epoch 31: 100%|██████████| 409/409 [00:03<00:00, 108.62batch/s, mse=0.0373]\n"
     ]
    },
    {
     "name": "stdout",
     "output_type": "stream",
     "text": [
      "Best model saved at Epoch 31\n"
     ]
    },
    {
     "name": "stderr",
     "output_type": "stream",
     "text": [
      "Epoch 32: 100%|██████████| 409/409 [00:03<00:00, 108.06batch/s, mse=0.0372]\n"
     ]
    },
    {
     "name": "stdout",
     "output_type": "stream",
     "text": [
      "Best model saved at Epoch 32\n"
     ]
    },
    {
     "name": "stderr",
     "output_type": "stream",
     "text": [
      "Epoch 33: 100%|██████████| 409/409 [00:03<00:00, 108.12batch/s, mse=0.037] \n"
     ]
    },
    {
     "name": "stdout",
     "output_type": "stream",
     "text": [
      "Best model saved at Epoch 33\n"
     ]
    },
    {
     "name": "stderr",
     "output_type": "stream",
     "text": [
      "Epoch 34: 100%|██████████| 409/409 [00:03<00:00, 108.09batch/s, mse=0.0368]\n"
     ]
    },
    {
     "name": "stdout",
     "output_type": "stream",
     "text": [
      "Best model saved at Epoch 34\n"
     ]
    },
    {
     "name": "stderr",
     "output_type": "stream",
     "text": [
      "Epoch 35: 100%|██████████| 409/409 [00:03<00:00, 106.71batch/s, mse=0.0366]\n"
     ]
    },
    {
     "name": "stdout",
     "output_type": "stream",
     "text": [
      "Best model saved at Epoch 35\n"
     ]
    },
    {
     "name": "stderr",
     "output_type": "stream",
     "text": [
      "Epoch 36: 100%|██████████| 409/409 [00:03<00:00, 110.05batch/s, mse=0.0373]\n",
      "Epoch 37: 100%|██████████| 409/409 [00:03<00:00, 106.44batch/s, mse=0.0332]\n"
     ]
    },
    {
     "name": "stdout",
     "output_type": "stream",
     "text": [
      "Best model saved at Epoch 37\n"
     ]
    },
    {
     "name": "stderr",
     "output_type": "stream",
     "text": [
      "Epoch 38: 100%|██████████| 409/409 [00:03<00:00, 108.51batch/s, mse=0.0352]\n"
     ]
    },
    {
     "name": "stdout",
     "output_type": "stream",
     "text": [
      "Best model saved at Epoch 38\n"
     ]
    },
    {
     "name": "stderr",
     "output_type": "stream",
     "text": [
      "Epoch 39: 100%|██████████| 409/409 [00:03<00:00, 109.67batch/s, mse=0.0355]\n"
     ]
    },
    {
     "name": "stdout",
     "output_type": "stream",
     "text": [
      "Best model saved at Epoch 39\n"
     ]
    },
    {
     "name": "stderr",
     "output_type": "stream",
     "text": [
      "Epoch 40: 100%|██████████| 409/409 [00:03<00:00, 106.80batch/s, mse=0.0356]\n"
     ]
    },
    {
     "name": "stdout",
     "output_type": "stream",
     "text": [
      "Best model saved at Epoch 40\n"
     ]
    },
    {
     "name": "stderr",
     "output_type": "stream",
     "text": [
      "Epoch 41: 100%|██████████| 409/409 [00:03<00:00, 103.30batch/s, mse=0.0356]\n"
     ]
    },
    {
     "name": "stdout",
     "output_type": "stream",
     "text": [
      "Best model saved at Epoch 41\n"
     ]
    },
    {
     "name": "stderr",
     "output_type": "stream",
     "text": [
      "Epoch 42: 100%|██████████| 409/409 [00:03<00:00, 107.33batch/s, mse=0.0355]\n"
     ]
    },
    {
     "name": "stdout",
     "output_type": "stream",
     "text": [
      "Best model saved at Epoch 42\n"
     ]
    },
    {
     "name": "stderr",
     "output_type": "stream",
     "text": [
      "Epoch 43: 100%|██████████| 409/409 [00:03<00:00, 109.07batch/s, mse=0.0355]\n"
     ]
    },
    {
     "name": "stdout",
     "output_type": "stream",
     "text": [
      "Best model saved at Epoch 43\n"
     ]
    },
    {
     "name": "stderr",
     "output_type": "stream",
     "text": [
      "Epoch 44: 100%|██████████| 409/409 [00:03<00:00, 107.70batch/s, mse=0.0354]\n"
     ]
    },
    {
     "name": "stdout",
     "output_type": "stream",
     "text": [
      "Best model saved at Epoch 44\n"
     ]
    },
    {
     "name": "stderr",
     "output_type": "stream",
     "text": [
      "Epoch 45: 100%|██████████| 409/409 [00:03<00:00, 107.39batch/s, mse=0.0353]\n"
     ]
    },
    {
     "name": "stdout",
     "output_type": "stream",
     "text": [
      "Best model saved at Epoch 45\n"
     ]
    },
    {
     "name": "stderr",
     "output_type": "stream",
     "text": [
      "Epoch 46: 100%|██████████| 409/409 [00:03<00:00, 108.23batch/s, mse=0.0352]\n"
     ]
    },
    {
     "name": "stdout",
     "output_type": "stream",
     "text": [
      "Best model saved at Epoch 46\n"
     ]
    },
    {
     "name": "stderr",
     "output_type": "stream",
     "text": [
      "Epoch 47: 100%|██████████| 409/409 [00:03<00:00, 106.48batch/s, mse=0.0351]\n"
     ]
    },
    {
     "name": "stdout",
     "output_type": "stream",
     "text": [
      "Best model saved at Epoch 47\n"
     ]
    },
    {
     "name": "stderr",
     "output_type": "stream",
     "text": [
      "Epoch 48: 100%|██████████| 409/409 [00:03<00:00, 107.60batch/s, mse=0.035] \n"
     ]
    },
    {
     "name": "stdout",
     "output_type": "stream",
     "text": [
      "Best model saved at Epoch 48\n"
     ]
    },
    {
     "name": "stderr",
     "output_type": "stream",
     "text": [
      "Epoch 49: 100%|██████████| 409/409 [00:03<00:00, 106.94batch/s, mse=0.0349]\n"
     ]
    },
    {
     "name": "stdout",
     "output_type": "stream",
     "text": [
      "Best model saved at Epoch 49\n"
     ]
    },
    {
     "name": "stderr",
     "output_type": "stream",
     "text": [
      "Epoch 50: 100%|██████████| 409/409 [00:03<00:00, 104.11batch/s, mse=0.0348]\n"
     ]
    },
    {
     "name": "stdout",
     "output_type": "stream",
     "text": [
      "Best model saved at Epoch 50\n"
     ]
    },
    {
     "name": "stderr",
     "output_type": "stream",
     "text": [
      "Epoch 51: 100%|██████████| 409/409 [00:03<00:00, 106.25batch/s, mse=0.0347]\n"
     ]
    },
    {
     "name": "stdout",
     "output_type": "stream",
     "text": [
      "Best model saved at Epoch 51\n"
     ]
    },
    {
     "name": "stderr",
     "output_type": "stream",
     "text": [
      "Epoch 52: 100%|██████████| 409/409 [00:03<00:00, 107.92batch/s, mse=0.0346]\n"
     ]
    },
    {
     "name": "stdout",
     "output_type": "stream",
     "text": [
      "Best model saved at Epoch 52\n"
     ]
    },
    {
     "name": "stderr",
     "output_type": "stream",
     "text": [
      "Epoch 53: 100%|██████████| 409/409 [00:03<00:00, 106.86batch/s, mse=0.0345]\n"
     ]
    },
    {
     "name": "stdout",
     "output_type": "stream",
     "text": [
      "Best model saved at Epoch 53\n"
     ]
    },
    {
     "name": "stderr",
     "output_type": "stream",
     "text": [
      "Epoch 54: 100%|██████████| 409/409 [00:03<00:00, 107.10batch/s, mse=0.0344]\n"
     ]
    },
    {
     "name": "stdout",
     "output_type": "stream",
     "text": [
      "Best model saved at Epoch 54\n"
     ]
    },
    {
     "name": "stderr",
     "output_type": "stream",
     "text": [
      "Epoch 55: 100%|██████████| 409/409 [00:03<00:00, 106.49batch/s, mse=0.0343]\n"
     ]
    },
    {
     "name": "stdout",
     "output_type": "stream",
     "text": [
      "Best model saved at Epoch 55\n"
     ]
    },
    {
     "name": "stderr",
     "output_type": "stream",
     "text": [
      "Epoch 56: 100%|██████████| 409/409 [00:03<00:00, 108.34batch/s, mse=0.0342]\n"
     ]
    },
    {
     "name": "stdout",
     "output_type": "stream",
     "text": [
      "Best model saved at Epoch 56\n"
     ]
    },
    {
     "name": "stderr",
     "output_type": "stream",
     "text": [
      "Epoch 57: 100%|██████████| 409/409 [00:03<00:00, 106.82batch/s, mse=0.0342]\n"
     ]
    },
    {
     "name": "stdout",
     "output_type": "stream",
     "text": [
      "Best model saved at Epoch 57\n"
     ]
    },
    {
     "name": "stderr",
     "output_type": "stream",
     "text": [
      "Epoch 58: 100%|██████████| 409/409 [00:03<00:00, 108.73batch/s, mse=0.0341]\n"
     ]
    },
    {
     "name": "stdout",
     "output_type": "stream",
     "text": [
      "Best model saved at Epoch 58\n"
     ]
    },
    {
     "name": "stderr",
     "output_type": "stream",
     "text": [
      "Epoch 59: 100%|██████████| 409/409 [00:03<00:00, 107.90batch/s, mse=0.034] \n"
     ]
    },
    {
     "name": "stdout",
     "output_type": "stream",
     "text": [
      "Best model saved at Epoch 59\n"
     ]
    },
    {
     "name": "stderr",
     "output_type": "stream",
     "text": [
      "Epoch 60: 100%|██████████| 409/409 [00:03<00:00, 108.46batch/s, mse=0.0339]\n"
     ]
    },
    {
     "name": "stdout",
     "output_type": "stream",
     "text": [
      "Best model saved at Epoch 60\n"
     ]
    },
    {
     "name": "stderr",
     "output_type": "stream",
     "text": [
      "Epoch 61: 100%|██████████| 409/409 [00:03<00:00, 108.73batch/s, mse=0.0338]\n"
     ]
    },
    {
     "name": "stdout",
     "output_type": "stream",
     "text": [
      "Best model saved at Epoch 61\n"
     ]
    },
    {
     "name": "stderr",
     "output_type": "stream",
     "text": [
      "Epoch 62: 100%|██████████| 409/409 [00:03<00:00, 106.38batch/s, mse=0.0338]\n"
     ]
    },
    {
     "name": "stdout",
     "output_type": "stream",
     "text": [
      "Best model saved at Epoch 62\n"
     ]
    },
    {
     "name": "stderr",
     "output_type": "stream",
     "text": [
      "Epoch 63: 100%|██████████| 409/409 [00:03<00:00, 106.07batch/s, mse=0.0337]\n"
     ]
    },
    {
     "name": "stdout",
     "output_type": "stream",
     "text": [
      "Best model saved at Epoch 63\n"
     ]
    },
    {
     "name": "stderr",
     "output_type": "stream",
     "text": [
      "Epoch 64: 100%|██████████| 409/409 [00:03<00:00, 107.48batch/s, mse=0.0336]\n"
     ]
    },
    {
     "name": "stdout",
     "output_type": "stream",
     "text": [
      "Best model saved at Epoch 64\n"
     ]
    },
    {
     "name": "stderr",
     "output_type": "stream",
     "text": [
      "Epoch 65: 100%|██████████| 409/409 [00:03<00:00, 103.29batch/s, mse=0.0335]\n"
     ]
    },
    {
     "name": "stdout",
     "output_type": "stream",
     "text": [
      "Best model saved at Epoch 65\n"
     ]
    },
    {
     "name": "stderr",
     "output_type": "stream",
     "text": [
      "Epoch 66: 100%|██████████| 409/409 [00:04<00:00, 95.14batch/s, mse=0.0335] \n"
     ]
    },
    {
     "name": "stdout",
     "output_type": "stream",
     "text": [
      "Best model saved at Epoch 66\n"
     ]
    },
    {
     "name": "stderr",
     "output_type": "stream",
     "text": [
      "Epoch 67: 100%|██████████| 409/409 [00:03<00:00, 102.87batch/s, mse=0.0334]\n"
     ]
    },
    {
     "name": "stdout",
     "output_type": "stream",
     "text": [
      "Best model saved at Epoch 67\n"
     ]
    },
    {
     "name": "stderr",
     "output_type": "stream",
     "text": [
      "Epoch 68: 100%|██████████| 409/409 [00:03<00:00, 103.83batch/s, mse=0.0333]\n"
     ]
    },
    {
     "name": "stdout",
     "output_type": "stream",
     "text": [
      "Best model saved at Epoch 68\n"
     ]
    },
    {
     "name": "stderr",
     "output_type": "stream",
     "text": [
      "Epoch 69: 100%|██████████| 409/409 [00:03<00:00, 108.49batch/s, mse=0.0332]\n"
     ]
    },
    {
     "name": "stdout",
     "output_type": "stream",
     "text": [
      "Best model saved at Epoch 69\n"
     ]
    },
    {
     "name": "stderr",
     "output_type": "stream",
     "text": [
      "Epoch 70: 100%|██████████| 409/409 [00:03<00:00, 107.55batch/s, mse=0.0332]\n"
     ]
    },
    {
     "name": "stdout",
     "output_type": "stream",
     "text": [
      "Best model saved at Epoch 70\n"
     ]
    },
    {
     "name": "stderr",
     "output_type": "stream",
     "text": [
      "Epoch 71: 100%|██████████| 409/409 [00:03<00:00, 106.32batch/s, mse=0.0331]\n"
     ]
    },
    {
     "name": "stdout",
     "output_type": "stream",
     "text": [
      "Best model saved at Epoch 71\n"
     ]
    },
    {
     "name": "stderr",
     "output_type": "stream",
     "text": [
      "Epoch 72: 100%|██████████| 409/409 [00:03<00:00, 102.46batch/s, mse=0.033] \n"
     ]
    },
    {
     "name": "stdout",
     "output_type": "stream",
     "text": [
      "Best model saved at Epoch 72\n"
     ]
    },
    {
     "name": "stderr",
     "output_type": "stream",
     "text": [
      "Epoch 73: 100%|██████████| 409/409 [00:03<00:00, 103.53batch/s, mse=0.033] \n"
     ]
    },
    {
     "name": "stdout",
     "output_type": "stream",
     "text": [
      "Best model saved at Epoch 73\n"
     ]
    },
    {
     "name": "stderr",
     "output_type": "stream",
     "text": [
      "Epoch 74: 100%|██████████| 409/409 [00:03<00:00, 108.77batch/s, mse=0.0329]\n"
     ]
    },
    {
     "name": "stdout",
     "output_type": "stream",
     "text": [
      "Best model saved at Epoch 74\n"
     ]
    },
    {
     "name": "stderr",
     "output_type": "stream",
     "text": [
      "Epoch 75: 100%|██████████| 409/409 [00:04<00:00, 100.84batch/s, mse=0.0329]\n"
     ]
    },
    {
     "name": "stdout",
     "output_type": "stream",
     "text": [
      "Best model saved at Epoch 75\n"
     ]
    },
    {
     "name": "stderr",
     "output_type": "stream",
     "text": [
      "Epoch 76: 100%|██████████| 409/409 [00:03<00:00, 106.38batch/s, mse=0.0328]\n"
     ]
    },
    {
     "name": "stdout",
     "output_type": "stream",
     "text": [
      "Best model saved at Epoch 76\n"
     ]
    },
    {
     "name": "stderr",
     "output_type": "stream",
     "text": [
      "Epoch 77: 100%|██████████| 409/409 [00:03<00:00, 107.05batch/s, mse=0.0327]\n"
     ]
    },
    {
     "name": "stdout",
     "output_type": "stream",
     "text": [
      "Best model saved at Epoch 77\n"
     ]
    },
    {
     "name": "stderr",
     "output_type": "stream",
     "text": [
      "Epoch 78: 100%|██████████| 409/409 [00:03<00:00, 106.07batch/s, mse=0.0327]\n"
     ]
    },
    {
     "name": "stdout",
     "output_type": "stream",
     "text": [
      "Best model saved at Epoch 78\n"
     ]
    },
    {
     "name": "stderr",
     "output_type": "stream",
     "text": [
      "Epoch 79: 100%|██████████| 409/409 [00:03<00:00, 109.06batch/s, mse=0.0326]\n"
     ]
    },
    {
     "name": "stdout",
     "output_type": "stream",
     "text": [
      "Best model saved at Epoch 79\n"
     ]
    },
    {
     "name": "stderr",
     "output_type": "stream",
     "text": [
      "Epoch 80: 100%|██████████| 409/409 [00:03<00:00, 107.87batch/s, mse=0.0326]\n"
     ]
    },
    {
     "name": "stdout",
     "output_type": "stream",
     "text": [
      "Best model saved at Epoch 80\n"
     ]
    },
    {
     "name": "stderr",
     "output_type": "stream",
     "text": [
      "Epoch 81: 100%|██████████| 409/409 [00:03<00:00, 105.72batch/s, mse=0.0325]\n"
     ]
    },
    {
     "name": "stdout",
     "output_type": "stream",
     "text": [
      "Best model saved at Epoch 81\n"
     ]
    },
    {
     "name": "stderr",
     "output_type": "stream",
     "text": [
      "Epoch 82: 100%|██████████| 409/409 [00:03<00:00, 106.78batch/s, mse=0.0325]\n"
     ]
    },
    {
     "name": "stdout",
     "output_type": "stream",
     "text": [
      "Best model saved at Epoch 82\n"
     ]
    },
    {
     "name": "stderr",
     "output_type": "stream",
     "text": [
      "Epoch 83: 100%|██████████| 409/409 [00:03<00:00, 106.50batch/s, mse=0.0324]\n"
     ]
    },
    {
     "name": "stdout",
     "output_type": "stream",
     "text": [
      "Best model saved at Epoch 83\n"
     ]
    },
    {
     "name": "stderr",
     "output_type": "stream",
     "text": [
      "Epoch 84: 100%|██████████| 409/409 [00:03<00:00, 107.53batch/s, mse=0.0324]\n"
     ]
    },
    {
     "name": "stdout",
     "output_type": "stream",
     "text": [
      "Best model saved at Epoch 84\n"
     ]
    },
    {
     "name": "stderr",
     "output_type": "stream",
     "text": [
      "Epoch 85: 100%|██████████| 409/409 [00:03<00:00, 107.33batch/s, mse=0.0323]\n"
     ]
    },
    {
     "name": "stdout",
     "output_type": "stream",
     "text": [
      "Best model saved at Epoch 85\n"
     ]
    },
    {
     "name": "stderr",
     "output_type": "stream",
     "text": [
      "Epoch 86: 100%|██████████| 409/409 [00:03<00:00, 106.79batch/s, mse=0.0323]\n"
     ]
    },
    {
     "name": "stdout",
     "output_type": "stream",
     "text": [
      "Best model saved at Epoch 86\n"
     ]
    },
    {
     "name": "stderr",
     "output_type": "stream",
     "text": [
      "Epoch 87: 100%|██████████| 409/409 [00:03<00:00, 108.95batch/s, mse=0.0322]\n"
     ]
    },
    {
     "name": "stdout",
     "output_type": "stream",
     "text": [
      "Best model saved at Epoch 87\n"
     ]
    },
    {
     "name": "stderr",
     "output_type": "stream",
     "text": [
      "Epoch 88: 100%|██████████| 409/409 [00:03<00:00, 106.83batch/s, mse=0.0322]\n"
     ]
    },
    {
     "name": "stdout",
     "output_type": "stream",
     "text": [
      "Best model saved at Epoch 88\n"
     ]
    },
    {
     "name": "stderr",
     "output_type": "stream",
     "text": [
      "Epoch 89: 100%|██████████| 409/409 [00:03<00:00, 105.22batch/s, mse=0.0321]\n"
     ]
    },
    {
     "name": "stdout",
     "output_type": "stream",
     "text": [
      "Best model saved at Epoch 89\n"
     ]
    },
    {
     "name": "stderr",
     "output_type": "stream",
     "text": [
      "Epoch 90: 100%|██████████| 409/409 [00:03<00:00, 107.85batch/s, mse=0.0321]\n"
     ]
    },
    {
     "name": "stdout",
     "output_type": "stream",
     "text": [
      "Best model saved at Epoch 90\n"
     ]
    },
    {
     "name": "stderr",
     "output_type": "stream",
     "text": [
      "Epoch 91: 100%|██████████| 409/409 [00:03<00:00, 105.71batch/s, mse=0.032] \n"
     ]
    },
    {
     "name": "stdout",
     "output_type": "stream",
     "text": [
      "Best model saved at Epoch 91\n"
     ]
    },
    {
     "name": "stderr",
     "output_type": "stream",
     "text": [
      "Epoch 92: 100%|██████████| 409/409 [00:03<00:00, 106.07batch/s, mse=0.032] \n"
     ]
    },
    {
     "name": "stdout",
     "output_type": "stream",
     "text": [
      "Best model saved at Epoch 92\n"
     ]
    },
    {
     "name": "stderr",
     "output_type": "stream",
     "text": [
      "Epoch 93: 100%|██████████| 409/409 [00:03<00:00, 107.02batch/s, mse=0.0319]\n"
     ]
    },
    {
     "name": "stdout",
     "output_type": "stream",
     "text": [
      "Best model saved at Epoch 93\n"
     ]
    },
    {
     "name": "stderr",
     "output_type": "stream",
     "text": [
      "Epoch 94: 100%|██████████| 409/409 [00:03<00:00, 108.13batch/s, mse=0.0319]\n"
     ]
    },
    {
     "name": "stdout",
     "output_type": "stream",
     "text": [
      "Best model saved at Epoch 94\n"
     ]
    },
    {
     "name": "stderr",
     "output_type": "stream",
     "text": [
      "Epoch 95: 100%|██████████| 409/409 [00:03<00:00, 106.74batch/s, mse=0.0319]\n"
     ]
    },
    {
     "name": "stdout",
     "output_type": "stream",
     "text": [
      "Best model saved at Epoch 95\n"
     ]
    },
    {
     "name": "stderr",
     "output_type": "stream",
     "text": [
      "Epoch 96: 100%|██████████| 409/409 [00:03<00:00, 106.67batch/s, mse=0.0318]\n"
     ]
    },
    {
     "name": "stdout",
     "output_type": "stream",
     "text": [
      "Best model saved at Epoch 96\n"
     ]
    },
    {
     "name": "stderr",
     "output_type": "stream",
     "text": [
      "Epoch 97: 100%|██████████| 409/409 [00:03<00:00, 106.70batch/s, mse=0.0318]\n"
     ]
    },
    {
     "name": "stdout",
     "output_type": "stream",
     "text": [
      "Best model saved at Epoch 97\n"
     ]
    },
    {
     "name": "stderr",
     "output_type": "stream",
     "text": [
      "Epoch 98: 100%|██████████| 409/409 [00:03<00:00, 107.72batch/s, mse=0.0317]\n"
     ]
    },
    {
     "name": "stdout",
     "output_type": "stream",
     "text": [
      "Best model saved at Epoch 98\n"
     ]
    },
    {
     "name": "stderr",
     "output_type": "stream",
     "text": [
      "Epoch 99: 100%|██████████| 409/409 [00:03<00:00, 106.19batch/s, mse=0.0317]\n"
     ]
    },
    {
     "name": "stdout",
     "output_type": "stream",
     "text": [
      "Best model saved at Epoch 99\n"
     ]
    },
    {
     "name": "stderr",
     "output_type": "stream",
     "text": [
      "Epoch 100: 100%|██████████| 409/409 [00:03<00:00, 105.31batch/s, mse=0.0317]\n"
     ]
    },
    {
     "name": "stdout",
     "output_type": "stream",
     "text": [
      "Best model saved at Epoch 100\n",
      "MSE: 0.01\n"
     ]
    },
    {
     "data": {
      "image/png": "[encoded data removed]",
      "text/plain": [
       "<Figure size 640x480 with 1 Axes>"
      ]
     },
     "metadata": {},
     "output_type": "display_data"
    }
   ],
   "source": [
    "train(epochs=100, hiddendim=256, lossfcn='mse', opt='adam', lr=1e-3)"
   ]
  },
  {
   "cell_type": "code",
   "execution_count": 35,
   "metadata": {},
   "outputs": [
    {
     "name": "stderr",
     "output_type": "stream",
     "text": [
      "Epoch 1: 100%|██████████| 409/409 [00:02<00:00, 149.16batch/s, mse=0.0216]\n"
     ]
    },
    {
     "name": "stdout",
     "output_type": "stream",
     "text": [
      "Best model saved at Epoch 1\n"
     ]
    },
    {
     "name": "stderr",
     "output_type": "stream",
     "text": [
      "Epoch 2: 100%|██████████| 409/409 [00:02<00:00, 148.58batch/s, mse=0.0421]\n",
      "Epoch 3: 100%|██████████| 409/409 [00:02<00:00, 150.60batch/s, mse=0.044] \n",
      "Epoch 4: 100%|██████████| 409/409 [00:02<00:00, 147.93batch/s, mse=0.0438]\n",
      "Epoch 5: 100%|██████████| 409/409 [00:02<00:00, 148.41batch/s, mse=0.0433]\n",
      "Epoch 6: 100%|██████████| 409/409 [00:02<00:00, 155.31batch/s, mse=0.0428]\n",
      "Epoch 7: 100%|██████████| 409/409 [00:02<00:00, 151.77batch/s, mse=0.0423]\n",
      "Epoch 8: 100%|██████████| 409/409 [00:02<00:00, 155.16batch/s, mse=0.0417]\n",
      "Epoch 9: 100%|██████████| 409/409 [00:02<00:00, 153.47batch/s, mse=0.0412]\n",
      "Epoch 10: 100%|██████████| 409/409 [00:02<00:00, 155.08batch/s, mse=0.0406]\n",
      "Epoch 11: 100%|██████████| 409/409 [00:02<00:00, 153.54batch/s, mse=0.0401]\n",
      "Epoch 12: 100%|██████████| 409/409 [00:02<00:00, 156.64batch/s, mse=0.0396]\n",
      "Epoch 13: 100%|██████████| 409/409 [00:02<00:00, 150.47batch/s, mse=0.0391]\n",
      "Epoch 14: 100%|██████████| 409/409 [00:02<00:00, 145.03batch/s, mse=0.0386]\n",
      "Epoch 15: 100%|██████████| 409/409 [00:02<00:00, 147.92batch/s, mse=0.0381]\n",
      "Epoch 16: 100%|██████████| 409/409 [00:02<00:00, 143.13batch/s, mse=0.0379]\n",
      "Epoch 17: 100%|██████████| 409/409 [00:02<00:00, 142.21batch/s, mse=0.0378]\n"
     ]
    },
    {
     "name": "stdout",
     "output_type": "stream",
     "text": [
      "Best model saved at Epoch 17\n"
     ]
    },
    {
     "name": "stderr",
     "output_type": "stream",
     "text": [
      "Epoch 18: 100%|██████████| 409/409 [00:02<00:00, 141.95batch/s, mse=0.0369]\n",
      "Epoch 19: 100%|██████████| 409/409 [00:02<00:00, 139.35batch/s, mse=0.0368]\n",
      "Epoch 20: 100%|██████████| 409/409 [00:02<00:00, 141.95batch/s, mse=0.0365]\n",
      "Epoch 21: 100%|██████████| 409/409 [00:02<00:00, 142.35batch/s, mse=0.0362]\n",
      "Epoch 22: 100%|██████████| 409/409 [00:02<00:00, 142.67batch/s, mse=0.0359]\n",
      "Epoch 23: 100%|██████████| 409/409 [00:02<00:00, 143.44batch/s, mse=0.0356]\n",
      "Epoch 24: 100%|██████████| 409/409 [00:02<00:00, 141.61batch/s, mse=0.0353]\n",
      "Epoch 25: 100%|██████████| 409/409 [00:02<00:00, 140.73batch/s, mse=0.035] \n",
      "Epoch 26: 100%|██████████| 409/409 [00:02<00:00, 143.51batch/s, mse=0.0347]\n",
      "Epoch 27: 100%|██████████| 409/409 [00:02<00:00, 141.90batch/s, mse=0.0344]\n",
      "Epoch 28: 100%|██████████| 409/409 [00:02<00:00, 141.60batch/s, mse=0.0342]\n",
      "Epoch 29: 100%|██████████| 409/409 [00:02<00:00, 139.88batch/s, mse=0.0339]\n",
      "Epoch 30: 100%|██████████| 409/409 [00:02<00:00, 143.45batch/s, mse=0.0336]\n",
      "Epoch 31: 100%|██████████| 409/409 [00:02<00:00, 141.68batch/s, mse=0.0334]\n",
      "Epoch 32: 100%|██████████| 409/409 [00:02<00:00, 141.69batch/s, mse=0.0332]\n",
      "Epoch 33: 100%|██████████| 409/409 [00:03<00:00, 125.42batch/s, mse=0.0329]\n"
     ]
    },
    {
     "name": "stdout",
     "output_type": "stream",
     "text": [
      "Best model saved at Epoch 33\n"
     ]
    },
    {
     "name": "stderr",
     "output_type": "stream",
     "text": [
      "Epoch 34: 100%|██████████| 409/409 [00:02<00:00, 137.18batch/s, mse=0.0327]\n"
     ]
    },
    {
     "name": "stdout",
     "output_type": "stream",
     "text": [
      "Best model saved at Epoch 34\n"
     ]
    },
    {
     "name": "stderr",
     "output_type": "stream",
     "text": [
      "Epoch 35: 100%|██████████| 409/409 [00:03<00:00, 117.70batch/s, mse=0.0325]\n"
     ]
    },
    {
     "name": "stdout",
     "output_type": "stream",
     "text": [
      "Best model saved at Epoch 35\n"
     ]
    },
    {
     "name": "stderr",
     "output_type": "stream",
     "text": [
      "Epoch 36: 100%|██████████| 409/409 [00:03<00:00, 120.81batch/s, mse=0.0323]\n"
     ]
    },
    {
     "name": "stdout",
     "output_type": "stream",
     "text": [
      "Best model saved at Epoch 36\n"
     ]
    },
    {
     "name": "stderr",
     "output_type": "stream",
     "text": [
      "Epoch 37: 100%|██████████| 409/409 [00:03<00:00, 136.11batch/s, mse=0.0321]\n"
     ]
    },
    {
     "name": "stdout",
     "output_type": "stream",
     "text": [
      "Best model saved at Epoch 37\n"
     ]
    },
    {
     "name": "stderr",
     "output_type": "stream",
     "text": [
      "Epoch 38: 100%|██████████| 409/409 [00:03<00:00, 120.80batch/s, mse=0.0319]\n"
     ]
    },
    {
     "name": "stdout",
     "output_type": "stream",
     "text": [
      "Best model saved at Epoch 38\n"
     ]
    },
    {
     "name": "stderr",
     "output_type": "stream",
     "text": [
      "Epoch 39: 100%|██████████| 409/409 [00:03<00:00, 111.04batch/s, mse=0.0317]\n"
     ]
    },
    {
     "name": "stdout",
     "output_type": "stream",
     "text": [
      "Best model saved at Epoch 39\n"
     ]
    },
    {
     "name": "stderr",
     "output_type": "stream",
     "text": [
      "Epoch 40: 100%|██████████| 409/409 [00:03<00:00, 125.28batch/s, mse=0.0315]\n"
     ]
    },
    {
     "name": "stdout",
     "output_type": "stream",
     "text": [
      "Best model saved at Epoch 40\n"
     ]
    },
    {
     "name": "stderr",
     "output_type": "stream",
     "text": [
      "Epoch 41: 100%|██████████| 409/409 [00:03<00:00, 134.00batch/s, mse=0.0313]\n"
     ]
    },
    {
     "name": "stdout",
     "output_type": "stream",
     "text": [
      "Best model saved at Epoch 41\n"
     ]
    },
    {
     "name": "stderr",
     "output_type": "stream",
     "text": [
      "Epoch 42: 100%|██████████| 409/409 [00:03<00:00, 126.40batch/s, mse=0.0311]\n"
     ]
    },
    {
     "name": "stdout",
     "output_type": "stream",
     "text": [
      "Best model saved at Epoch 42\n"
     ]
    },
    {
     "name": "stderr",
     "output_type": "stream",
     "text": [
      "Epoch 43: 100%|██████████| 409/409 [00:03<00:00, 124.53batch/s, mse=0.031] \n"
     ]
    },
    {
     "name": "stdout",
     "output_type": "stream",
     "text": [
      "Best model saved at Epoch 43\n"
     ]
    },
    {
     "name": "stderr",
     "output_type": "stream",
     "text": [
      "Epoch 44: 100%|██████████| 409/409 [00:04<00:00, 92.04batch/s, mse=0.0308] \n"
     ]
    },
    {
     "name": "stdout",
     "output_type": "stream",
     "text": [
      "Best model saved at Epoch 44\n"
     ]
    },
    {
     "name": "stderr",
     "output_type": "stream",
     "text": [
      "Epoch 45: 100%|██████████| 409/409 [00:03<00:00, 116.68batch/s, mse=0.0306]\n"
     ]
    },
    {
     "name": "stdout",
     "output_type": "stream",
     "text": [
      "Best model saved at Epoch 45\n"
     ]
    },
    {
     "name": "stderr",
     "output_type": "stream",
     "text": [
      "Epoch 46: 100%|██████████| 409/409 [00:03<00:00, 132.37batch/s, mse=0.0305]\n"
     ]
    },
    {
     "name": "stdout",
     "output_type": "stream",
     "text": [
      "Best model saved at Epoch 46\n"
     ]
    },
    {
     "name": "stderr",
     "output_type": "stream",
     "text": [
      "Epoch 47: 100%|██████████| 409/409 [00:03<00:00, 131.82batch/s, mse=0.0303]\n"
     ]
    },
    {
     "name": "stdout",
     "output_type": "stream",
     "text": [
      "Best model saved at Epoch 47\n"
     ]
    },
    {
     "name": "stderr",
     "output_type": "stream",
     "text": [
      "Epoch 48: 100%|██████████| 409/409 [00:03<00:00, 128.56batch/s, mse=0.0302]\n"
     ]
    },
    {
     "name": "stdout",
     "output_type": "stream",
     "text": [
      "Best model saved at Epoch 48\n"
     ]
    },
    {
     "name": "stderr",
     "output_type": "stream",
     "text": [
      "Epoch 49: 100%|██████████| 409/409 [00:03<00:00, 121.54batch/s, mse=0.03]  \n"
     ]
    },
    {
     "name": "stdout",
     "output_type": "stream",
     "text": [
      "Best model saved at Epoch 49\n"
     ]
    },
    {
     "name": "stderr",
     "output_type": "stream",
     "text": [
      "Epoch 50: 100%|██████████| 409/409 [00:03<00:00, 132.97batch/s, mse=0.0299]\n"
     ]
    },
    {
     "name": "stdout",
     "output_type": "stream",
     "text": [
      "Best model saved at Epoch 50\n"
     ]
    },
    {
     "name": "stderr",
     "output_type": "stream",
     "text": [
      "Epoch 51: 100%|██████████| 409/409 [00:03<00:00, 128.14batch/s, mse=0.0298]\n"
     ]
    },
    {
     "name": "stdout",
     "output_type": "stream",
     "text": [
      "Best model saved at Epoch 51\n"
     ]
    },
    {
     "name": "stderr",
     "output_type": "stream",
     "text": [
      "Epoch 52: 100%|██████████| 409/409 [00:03<00:00, 121.66batch/s, mse=0.0296]\n"
     ]
    },
    {
     "name": "stdout",
     "output_type": "stream",
     "text": [
      "Best model saved at Epoch 52\n"
     ]
    },
    {
     "name": "stderr",
     "output_type": "stream",
     "text": [
      "Epoch 53: 100%|██████████| 409/409 [00:03<00:00, 125.82batch/s, mse=0.0295]\n"
     ]
    },
    {
     "name": "stdout",
     "output_type": "stream",
     "text": [
      "Best model saved at Epoch 53\n"
     ]
    },
    {
     "name": "stderr",
     "output_type": "stream",
     "text": [
      "Epoch 54: 100%|██████████| 409/409 [00:02<00:00, 137.23batch/s, mse=0.0294]\n"
     ]
    },
    {
     "name": "stdout",
     "output_type": "stream",
     "text": [
      "Best model saved at Epoch 54\n"
     ]
    },
    {
     "name": "stderr",
     "output_type": "stream",
     "text": [
      "Epoch 55: 100%|██████████| 409/409 [00:02<00:00, 136.94batch/s, mse=0.0293]\n"
     ]
    },
    {
     "name": "stdout",
     "output_type": "stream",
     "text": [
      "Best model saved at Epoch 55\n"
     ]
    },
    {
     "name": "stderr",
     "output_type": "stream",
     "text": [
      "Epoch 56: 100%|██████████| 409/409 [00:02<00:00, 138.93batch/s, mse=0.0292]\n"
     ]
    },
    {
     "name": "stdout",
     "output_type": "stream",
     "text": [
      "Best model saved at Epoch 56\n"
     ]
    },
    {
     "name": "stderr",
     "output_type": "stream",
     "text": [
      "Epoch 57: 100%|██████████| 409/409 [00:03<00:00, 133.50batch/s, mse=0.029] \n"
     ]
    },
    {
     "name": "stdout",
     "output_type": "stream",
     "text": [
      "Best model saved at Epoch 57\n"
     ]
    },
    {
     "name": "stderr",
     "output_type": "stream",
     "text": [
      "Epoch 58: 100%|██████████| 409/409 [00:03<00:00, 133.16batch/s, mse=0.0289]\n"
     ]
    },
    {
     "name": "stdout",
     "output_type": "stream",
     "text": [
      "Best model saved at Epoch 58\n"
     ]
    },
    {
     "name": "stderr",
     "output_type": "stream",
     "text": [
      "Epoch 59: 100%|██████████| 409/409 [00:03<00:00, 134.18batch/s, mse=0.0288]\n"
     ]
    },
    {
     "name": "stdout",
     "output_type": "stream",
     "text": [
      "Best model saved at Epoch 59\n"
     ]
    },
    {
     "name": "stderr",
     "output_type": "stream",
     "text": [
      "Epoch 60: 100%|██████████| 409/409 [00:03<00:00, 135.49batch/s, mse=0.0287]\n"
     ]
    },
    {
     "name": "stdout",
     "output_type": "stream",
     "text": [
      "Best model saved at Epoch 60\n"
     ]
    },
    {
     "name": "stderr",
     "output_type": "stream",
     "text": [
      "Epoch 61: 100%|██████████| 409/409 [00:03<00:00, 135.71batch/s, mse=0.0286]\n"
     ]
    },
    {
     "name": "stdout",
     "output_type": "stream",
     "text": [
      "Best model saved at Epoch 61\n"
     ]
    },
    {
     "name": "stderr",
     "output_type": "stream",
     "text": [
      "Epoch 62: 100%|██████████| 409/409 [00:02<00:00, 136.38batch/s, mse=0.0285]\n"
     ]
    },
    {
     "name": "stdout",
     "output_type": "stream",
     "text": [
      "Best model saved at Epoch 62\n"
     ]
    },
    {
     "name": "stderr",
     "output_type": "stream",
     "text": [
      "Epoch 63: 100%|██████████| 409/409 [00:02<00:00, 136.43batch/s, mse=0.0284]\n"
     ]
    },
    {
     "name": "stdout",
     "output_type": "stream",
     "text": [
      "Best model saved at Epoch 63\n"
     ]
    },
    {
     "name": "stderr",
     "output_type": "stream",
     "text": [
      "Epoch 64: 100%|██████████| 409/409 [00:03<00:00, 134.38batch/s, mse=0.0283]\n"
     ]
    },
    {
     "name": "stdout",
     "output_type": "stream",
     "text": [
      "Best model saved at Epoch 64\n"
     ]
    },
    {
     "name": "stderr",
     "output_type": "stream",
     "text": [
      "Epoch 65: 100%|██████████| 409/409 [00:02<00:00, 137.08batch/s, mse=0.0282]\n"
     ]
    },
    {
     "name": "stdout",
     "output_type": "stream",
     "text": [
      "Best model saved at Epoch 65\n"
     ]
    },
    {
     "name": "stderr",
     "output_type": "stream",
     "text": [
      "Epoch 66: 100%|██████████| 409/409 [00:03<00:00, 133.86batch/s, mse=0.0282]\n"
     ]
    },
    {
     "name": "stdout",
     "output_type": "stream",
     "text": [
      "Best model saved at Epoch 66\n"
     ]
    },
    {
     "name": "stderr",
     "output_type": "stream",
     "text": [
      "Epoch 67: 100%|██████████| 409/409 [00:02<00:00, 136.52batch/s, mse=0.0281]\n"
     ]
    },
    {
     "name": "stdout",
     "output_type": "stream",
     "text": [
      "Best model saved at Epoch 67\n"
     ]
    },
    {
     "name": "stderr",
     "output_type": "stream",
     "text": [
      "Epoch 68: 100%|██████████| 409/409 [00:03<00:00, 133.64batch/s, mse=0.028] \n"
     ]
    },
    {
     "name": "stdout",
     "output_type": "stream",
     "text": [
      "Best model saved at Epoch 68\n"
     ]
    },
    {
     "name": "stderr",
     "output_type": "stream",
     "text": [
      "Epoch 69: 100%|██████████| 409/409 [00:02<00:00, 136.75batch/s, mse=0.0279]\n"
     ]
    },
    {
     "name": "stdout",
     "output_type": "stream",
     "text": [
      "Best model saved at Epoch 69\n"
     ]
    },
    {
     "name": "stderr",
     "output_type": "stream",
     "text": [
      "Epoch 70: 100%|██████████| 409/409 [00:03<00:00, 133.87batch/s, mse=0.0278]\n"
     ]
    },
    {
     "name": "stdout",
     "output_type": "stream",
     "text": [
      "Best model saved at Epoch 70\n"
     ]
    },
    {
     "name": "stderr",
     "output_type": "stream",
     "text": [
      "Epoch 71: 100%|██████████| 409/409 [00:02<00:00, 137.08batch/s, mse=0.0277]\n"
     ]
    },
    {
     "name": "stdout",
     "output_type": "stream",
     "text": [
      "Best model saved at Epoch 71\n"
     ]
    },
    {
     "name": "stderr",
     "output_type": "stream",
     "text": [
      "Epoch 72: 100%|██████████| 409/409 [00:02<00:00, 138.62batch/s, mse=0.0277]\n"
     ]
    },
    {
     "name": "stdout",
     "output_type": "stream",
     "text": [
      "Best model saved at Epoch 72\n"
     ]
    },
    {
     "name": "stderr",
     "output_type": "stream",
     "text": [
      "Epoch 73: 100%|██████████| 409/409 [00:02<00:00, 136.66batch/s, mse=0.0276]\n"
     ]
    },
    {
     "name": "stdout",
     "output_type": "stream",
     "text": [
      "Best model saved at Epoch 73\n"
     ]
    },
    {
     "name": "stderr",
     "output_type": "stream",
     "text": [
      "Epoch 74: 100%|██████████| 409/409 [00:02<00:00, 139.11batch/s, mse=0.0275]\n"
     ]
    },
    {
     "name": "stdout",
     "output_type": "stream",
     "text": [
      "Best model saved at Epoch 74\n"
     ]
    },
    {
     "name": "stderr",
     "output_type": "stream",
     "text": [
      "Epoch 75: 100%|██████████| 409/409 [00:02<00:00, 137.35batch/s, mse=0.0275]\n"
     ]
    },
    {
     "name": "stdout",
     "output_type": "stream",
     "text": [
      "Best model saved at Epoch 75\n"
     ]
    },
    {
     "name": "stderr",
     "output_type": "stream",
     "text": [
      "Epoch 76: 100%|██████████| 409/409 [00:02<00:00, 139.30batch/s, mse=0.0274]\n"
     ]
    },
    {
     "name": "stdout",
     "output_type": "stream",
     "text": [
      "Best model saved at Epoch 76\n"
     ]
    },
    {
     "name": "stderr",
     "output_type": "stream",
     "text": [
      "Epoch 77: 100%|██████████| 409/409 [00:02<00:00, 139.31batch/s, mse=0.0273]\n"
     ]
    },
    {
     "name": "stdout",
     "output_type": "stream",
     "text": [
      "Best model saved at Epoch 77\n"
     ]
    },
    {
     "name": "stderr",
     "output_type": "stream",
     "text": [
      "Epoch 78: 100%|██████████| 409/409 [00:02<00:00, 136.43batch/s, mse=0.0273]\n"
     ]
    },
    {
     "name": "stdout",
     "output_type": "stream",
     "text": [
      "Best model saved at Epoch 78\n"
     ]
    },
    {
     "name": "stderr",
     "output_type": "stream",
     "text": [
      "Epoch 79: 100%|██████████| 409/409 [00:02<00:00, 139.61batch/s, mse=0.0272]\n"
     ]
    },
    {
     "name": "stdout",
     "output_type": "stream",
     "text": [
      "Best model saved at Epoch 79\n"
     ]
    },
    {
     "name": "stderr",
     "output_type": "stream",
     "text": [
      "Epoch 80: 100%|██████████| 409/409 [00:02<00:00, 137.04batch/s, mse=0.0271]\n"
     ]
    },
    {
     "name": "stdout",
     "output_type": "stream",
     "text": [
      "Best model saved at Epoch 80\n"
     ]
    },
    {
     "name": "stderr",
     "output_type": "stream",
     "text": [
      "Epoch 81: 100%|██████████| 409/409 [00:02<00:00, 138.92batch/s, mse=0.0271]\n"
     ]
    },
    {
     "name": "stdout",
     "output_type": "stream",
     "text": [
      "Best model saved at Epoch 81\n"
     ]
    },
    {
     "name": "stderr",
     "output_type": "stream",
     "text": [
      "Epoch 82: 100%|██████████| 409/409 [00:02<00:00, 138.71batch/s, mse=0.027] \n"
     ]
    },
    {
     "name": "stdout",
     "output_type": "stream",
     "text": [
      "Best model saved at Epoch 82\n"
     ]
    },
    {
     "name": "stderr",
     "output_type": "stream",
     "text": [
      "Epoch 83: 100%|██████████| 409/409 [00:02<00:00, 136.85batch/s, mse=0.0269]\n"
     ]
    },
    {
     "name": "stdout",
     "output_type": "stream",
     "text": [
      "Best model saved at Epoch 83\n"
     ]
    },
    {
     "name": "stderr",
     "output_type": "stream",
     "text": [
      "Epoch 84: 100%|██████████| 409/409 [00:02<00:00, 137.80batch/s, mse=0.0269]\n"
     ]
    },
    {
     "name": "stdout",
     "output_type": "stream",
     "text": [
      "Best model saved at Epoch 84\n"
     ]
    },
    {
     "name": "stderr",
     "output_type": "stream",
     "text": [
      "Epoch 85: 100%|██████████| 409/409 [00:03<00:00, 135.20batch/s, mse=0.0268]\n"
     ]
    },
    {
     "name": "stdout",
     "output_type": "stream",
     "text": [
      "Best model saved at Epoch 85\n"
     ]
    },
    {
     "name": "stderr",
     "output_type": "stream",
     "text": [
      "Epoch 86: 100%|██████████| 409/409 [00:02<00:00, 138.68batch/s, mse=0.0268]\n"
     ]
    },
    {
     "name": "stdout",
     "output_type": "stream",
     "text": [
      "Best model saved at Epoch 86\n"
     ]
    },
    {
     "name": "stderr",
     "output_type": "stream",
     "text": [
      "Epoch 87: 100%|██████████| 409/409 [00:02<00:00, 137.31batch/s, mse=0.0267]\n"
     ]
    },
    {
     "name": "stdout",
     "output_type": "stream",
     "text": [
      "Best model saved at Epoch 87\n"
     ]
    },
    {
     "name": "stderr",
     "output_type": "stream",
     "text": [
      "Epoch 88: 100%|██████████| 409/409 [00:02<00:00, 136.69batch/s, mse=0.0267]\n"
     ]
    },
    {
     "name": "stdout",
     "output_type": "stream",
     "text": [
      "Best model saved at Epoch 88\n"
     ]
    },
    {
     "name": "stderr",
     "output_type": "stream",
     "text": [
      "Epoch 89: 100%|██████████| 409/409 [00:02<00:00, 138.69batch/s, mse=0.0266]\n"
     ]
    },
    {
     "name": "stdout",
     "output_type": "stream",
     "text": [
      "Best model saved at Epoch 89\n"
     ]
    },
    {
     "name": "stderr",
     "output_type": "stream",
     "text": [
      "Epoch 90: 100%|██████████| 409/409 [00:02<00:00, 137.33batch/s, mse=0.0266]\n"
     ]
    },
    {
     "name": "stdout",
     "output_type": "stream",
     "text": [
      "Best model saved at Epoch 90\n"
     ]
    },
    {
     "name": "stderr",
     "output_type": "stream",
     "text": [
      "Epoch 91: 100%|██████████| 409/409 [00:02<00:00, 139.29batch/s, mse=0.0265]\n"
     ]
    },
    {
     "name": "stdout",
     "output_type": "stream",
     "text": [
      "Best model saved at Epoch 91\n"
     ]
    },
    {
     "name": "stderr",
     "output_type": "stream",
     "text": [
      "Epoch 92: 100%|██████████| 409/409 [00:02<00:00, 138.88batch/s, mse=0.0265]\n"
     ]
    },
    {
     "name": "stdout",
     "output_type": "stream",
     "text": [
      "Best model saved at Epoch 92\n"
     ]
    },
    {
     "name": "stderr",
     "output_type": "stream",
     "text": [
      "Epoch 93: 100%|██████████| 409/409 [00:02<00:00, 139.53batch/s, mse=0.0264]\n"
     ]
    },
    {
     "name": "stdout",
     "output_type": "stream",
     "text": [
      "Best model saved at Epoch 93\n"
     ]
    },
    {
     "name": "stderr",
     "output_type": "stream",
     "text": [
      "Epoch 94: 100%|██████████| 409/409 [00:02<00:00, 139.56batch/s, mse=0.0264]\n"
     ]
    },
    {
     "name": "stdout",
     "output_type": "stream",
     "text": [
      "Best model saved at Epoch 94\n"
     ]
    },
    {
     "name": "stderr",
     "output_type": "stream",
     "text": [
      "Epoch 95: 100%|██████████| 409/409 [00:02<00:00, 136.91batch/s, mse=0.0264]\n"
     ]
    },
    {
     "name": "stdout",
     "output_type": "stream",
     "text": [
      "Best model saved at Epoch 95\n"
     ]
    },
    {
     "name": "stderr",
     "output_type": "stream",
     "text": [
      "Epoch 96: 100%|██████████| 409/409 [00:02<00:00, 140.08batch/s, mse=0.0263]\n"
     ]
    },
    {
     "name": "stdout",
     "output_type": "stream",
     "text": [
      "Best model saved at Epoch 96\n"
     ]
    },
    {
     "name": "stderr",
     "output_type": "stream",
     "text": [
      "Epoch 97: 100%|██████████| 409/409 [00:02<00:00, 138.67batch/s, mse=0.0263]\n"
     ]
    },
    {
     "name": "stdout",
     "output_type": "stream",
     "text": [
      "Best model saved at Epoch 97\n"
     ]
    },
    {
     "name": "stderr",
     "output_type": "stream",
     "text": [
      "Epoch 98: 100%|██████████| 409/409 [00:02<00:00, 138.86batch/s, mse=0.0262]\n"
     ]
    },
    {
     "name": "stdout",
     "output_type": "stream",
     "text": [
      "Best model saved at Epoch 98\n"
     ]
    },
    {
     "name": "stderr",
     "output_type": "stream",
     "text": [
      "Epoch 99: 100%|██████████| 409/409 [00:02<00:00, 141.63batch/s, mse=0.0262]\n"
     ]
    },
    {
     "name": "stdout",
     "output_type": "stream",
     "text": [
      "Best model saved at Epoch 99\n"
     ]
    },
    {
     "name": "stderr",
     "output_type": "stream",
     "text": [
      "Epoch 100: 100%|██████████| 409/409 [00:02<00:00, 138.22batch/s, mse=0.0261]\n"
     ]
    },
    {
     "name": "stdout",
     "output_type": "stream",
     "text": [
      "Best model saved at Epoch 100\n",
      "MSE: 0.01\n"
     ]
    },
    {
     "data": {
      "image/png": "[encoded data removed]",
      "text/plain": [
       "<Figure size 640x480 with 1 Axes>"
      ]
     },
     "metadata": {},
     "output_type": "display_data"
    }
   ],
   "source": [
    "train(epochs=100, hiddendim=128, lossfcn='mse', opt='adam', lr=1e-3)"
   ]
  },
  {
   "cell_type": "code",
   "execution_count": 36,
   "metadata": {},
   "outputs": [
    {
     "name": "stderr",
     "output_type": "stream",
     "text": [
      "Epoch 1: 100%|██████████| 409/409 [00:02<00:00, 176.18batch/s, mse=0.0331]\n"
     ]
    },
    {
     "name": "stdout",
     "output_type": "stream",
     "text": [
      "Best model saved at Epoch 1\n"
     ]
    },
    {
     "name": "stderr",
     "output_type": "stream",
     "text": [
      "Epoch 2: 100%|██████████| 409/409 [00:02<00:00, 174.39batch/s, mse=0.0589]\n",
      "Epoch 3: 100%|██████████| 409/409 [00:02<00:00, 178.30batch/s, mse=0.06]  \n",
      "Epoch 4: 100%|██████████| 409/409 [00:02<00:00, 174.94batch/s, mse=0.0592]\n",
      "Epoch 5: 100%|██████████| 409/409 [00:02<00:00, 178.50batch/s, mse=0.058] \n",
      "Epoch 6: 100%|██████████| 409/409 [00:02<00:00, 176.13batch/s, mse=0.0567]\n",
      "Epoch 7: 100%|██████████| 409/409 [00:02<00:00, 176.14batch/s, mse=0.0554]\n",
      "Epoch 8: 100%|██████████| 409/409 [00:02<00:00, 177.29batch/s, mse=0.0541]\n",
      "Epoch 9: 100%|██████████| 409/409 [00:02<00:00, 180.66batch/s, mse=0.0528]\n",
      "Epoch 10: 100%|██████████| 409/409 [00:02<00:00, 178.05batch/s, mse=0.0516]\n",
      "Epoch 11: 100%|██████████| 409/409 [00:02<00:00, 181.10batch/s, mse=0.0504]\n",
      "Epoch 12: 100%|██████████| 409/409 [00:02<00:00, 178.13batch/s, mse=0.0492]\n",
      "Epoch 13: 100%|██████████| 409/409 [00:02<00:00, 181.20batch/s, mse=0.0481]\n",
      "Epoch 14: 100%|██████████| 409/409 [00:02<00:00, 177.17batch/s, mse=0.047] \n",
      "Epoch 15: 100%|██████████| 409/409 [00:02<00:00, 177.53batch/s, mse=0.046] \n",
      "Epoch 16: 100%|██████████| 409/409 [00:02<00:00, 179.37batch/s, mse=0.045] \n",
      "Epoch 17: 100%|██████████| 409/409 [00:02<00:00, 177.42batch/s, mse=0.0441]\n",
      "Epoch 18: 100%|██████████| 409/409 [00:02<00:00, 178.36batch/s, mse=0.0432]\n",
      "Epoch 19: 100%|██████████| 409/409 [00:02<00:00, 172.18batch/s, mse=0.0423]\n",
      "Epoch 20: 100%|██████████| 409/409 [00:02<00:00, 172.88batch/s, mse=0.0415]\n",
      "Epoch 21: 100%|██████████| 409/409 [00:02<00:00, 166.09batch/s, mse=0.0407]\n",
      "Epoch 22: 100%|██████████| 409/409 [00:02<00:00, 164.97batch/s, mse=0.04]  \n",
      "Epoch 23: 100%|██████████| 409/409 [00:02<00:00, 164.06batch/s, mse=0.0393]\n"
     ]
    },
    {
     "name": "stdout",
     "output_type": "stream",
     "text": [
      "Best model saved at Epoch 23\n"
     ]
    },
    {
     "name": "stderr",
     "output_type": "stream",
     "text": [
      "Epoch 24: 100%|██████████| 409/409 [00:02<00:00, 162.93batch/s, mse=0.0386]\n"
     ]
    },
    {
     "name": "stdout",
     "output_type": "stream",
     "text": [
      "Best model saved at Epoch 24\n"
     ]
    },
    {
     "name": "stderr",
     "output_type": "stream",
     "text": [
      "Epoch 25: 100%|██████████| 409/409 [00:02<00:00, 165.55batch/s, mse=0.038] \n"
     ]
    },
    {
     "name": "stdout",
     "output_type": "stream",
     "text": [
      "Best model saved at Epoch 25\n"
     ]
    },
    {
     "name": "stderr",
     "output_type": "stream",
     "text": [
      "Epoch 26: 100%|██████████| 409/409 [00:02<00:00, 166.49batch/s, mse=0.0374]\n"
     ]
    },
    {
     "name": "stdout",
     "output_type": "stream",
     "text": [
      "Best model saved at Epoch 26\n"
     ]
    },
    {
     "name": "stderr",
     "output_type": "stream",
     "text": [
      "Epoch 27: 100%|██████████| 409/409 [00:02<00:00, 162.53batch/s, mse=0.0368]\n"
     ]
    },
    {
     "name": "stdout",
     "output_type": "stream",
     "text": [
      "Best model saved at Epoch 27\n"
     ]
    },
    {
     "name": "stderr",
     "output_type": "stream",
     "text": [
      "Epoch 28: 100%|██████████| 409/409 [00:02<00:00, 165.10batch/s, mse=0.0363]\n"
     ]
    },
    {
     "name": "stdout",
     "output_type": "stream",
     "text": [
      "Best model saved at Epoch 28\n"
     ]
    },
    {
     "name": "stderr",
     "output_type": "stream",
     "text": [
      "Epoch 29: 100%|██████████| 409/409 [00:02<00:00, 161.76batch/s, mse=0.0357]\n"
     ]
    },
    {
     "name": "stdout",
     "output_type": "stream",
     "text": [
      "Best model saved at Epoch 29\n"
     ]
    },
    {
     "name": "stderr",
     "output_type": "stream",
     "text": [
      "Epoch 30: 100%|██████████| 409/409 [00:02<00:00, 163.00batch/s, mse=0.0352]\n"
     ]
    },
    {
     "name": "stdout",
     "output_type": "stream",
     "text": [
      "Best model saved at Epoch 30\n"
     ]
    },
    {
     "name": "stderr",
     "output_type": "stream",
     "text": [
      "Epoch 31: 100%|██████████| 409/409 [00:02<00:00, 164.93batch/s, mse=0.0347]\n"
     ]
    },
    {
     "name": "stdout",
     "output_type": "stream",
     "text": [
      "Best model saved at Epoch 31\n"
     ]
    },
    {
     "name": "stderr",
     "output_type": "stream",
     "text": [
      "Epoch 32: 100%|██████████| 409/409 [00:02<00:00, 163.13batch/s, mse=0.0343]\n"
     ]
    },
    {
     "name": "stdout",
     "output_type": "stream",
     "text": [
      "Best model saved at Epoch 32\n"
     ]
    },
    {
     "name": "stderr",
     "output_type": "stream",
     "text": [
      "Epoch 33: 100%|██████████| 409/409 [00:02<00:00, 165.17batch/s, mse=0.0338]\n"
     ]
    },
    {
     "name": "stdout",
     "output_type": "stream",
     "text": [
      "Best model saved at Epoch 33\n"
     ]
    },
    {
     "name": "stderr",
     "output_type": "stream",
     "text": [
      "Epoch 34: 100%|██████████| 409/409 [00:02<00:00, 164.74batch/s, mse=0.0334]\n"
     ]
    },
    {
     "name": "stdout",
     "output_type": "stream",
     "text": [
      "Best model saved at Epoch 34\n"
     ]
    },
    {
     "name": "stderr",
     "output_type": "stream",
     "text": [
      "Epoch 35: 100%|██████████| 409/409 [00:02<00:00, 162.48batch/s, mse=0.033] \n"
     ]
    },
    {
     "name": "stdout",
     "output_type": "stream",
     "text": [
      "Best model saved at Epoch 35\n"
     ]
    },
    {
     "name": "stderr",
     "output_type": "stream",
     "text": [
      "Epoch 36: 100%|██████████| 409/409 [00:02<00:00, 164.93batch/s, mse=0.0326]\n"
     ]
    },
    {
     "name": "stdout",
     "output_type": "stream",
     "text": [
      "Best model saved at Epoch 36\n"
     ]
    },
    {
     "name": "stderr",
     "output_type": "stream",
     "text": [
      "Epoch 37: 100%|██████████| 409/409 [00:02<00:00, 162.67batch/s, mse=0.0323]\n"
     ]
    },
    {
     "name": "stdout",
     "output_type": "stream",
     "text": [
      "Best model saved at Epoch 37\n"
     ]
    },
    {
     "name": "stderr",
     "output_type": "stream",
     "text": [
      "Epoch 38: 100%|██████████| 409/409 [00:02<00:00, 166.32batch/s, mse=0.0319]\n"
     ]
    },
    {
     "name": "stdout",
     "output_type": "stream",
     "text": [
      "Best model saved at Epoch 38\n"
     ]
    },
    {
     "name": "stderr",
     "output_type": "stream",
     "text": [
      "Epoch 39: 100%|██████████| 409/409 [00:02<00:00, 165.64batch/s, mse=0.0316]\n"
     ]
    },
    {
     "name": "stdout",
     "output_type": "stream",
     "text": [
      "Best model saved at Epoch 39\n"
     ]
    },
    {
     "name": "stderr",
     "output_type": "stream",
     "text": [
      "Epoch 40: 100%|██████████| 409/409 [00:02<00:00, 162.25batch/s, mse=0.0313]\n"
     ]
    },
    {
     "name": "stdout",
     "output_type": "stream",
     "text": [
      "Best model saved at Epoch 40\n"
     ]
    },
    {
     "name": "stderr",
     "output_type": "stream",
     "text": [
      "Epoch 41: 100%|██████████| 409/409 [00:02<00:00, 164.40batch/s, mse=0.031] \n"
     ]
    },
    {
     "name": "stdout",
     "output_type": "stream",
     "text": [
      "Best model saved at Epoch 41\n"
     ]
    },
    {
     "name": "stderr",
     "output_type": "stream",
     "text": [
      "Epoch 42: 100%|██████████| 409/409 [00:02<00:00, 162.17batch/s, mse=0.0307]\n"
     ]
    },
    {
     "name": "stdout",
     "output_type": "stream",
     "text": [
      "Best model saved at Epoch 42\n"
     ]
    },
    {
     "name": "stderr",
     "output_type": "stream",
     "text": [
      "Epoch 43: 100%|██████████| 409/409 [00:02<00:00, 165.24batch/s, mse=0.0304]\n"
     ]
    },
    {
     "name": "stdout",
     "output_type": "stream",
     "text": [
      "Best model saved at Epoch 43\n"
     ]
    },
    {
     "name": "stderr",
     "output_type": "stream",
     "text": [
      "Epoch 44: 100%|██████████| 409/409 [00:02<00:00, 165.67batch/s, mse=0.0301]\n"
     ]
    },
    {
     "name": "stdout",
     "output_type": "stream",
     "text": [
      "Best model saved at Epoch 44\n"
     ]
    },
    {
     "name": "stderr",
     "output_type": "stream",
     "text": [
      "Epoch 45: 100%|██████████| 409/409 [00:02<00:00, 161.05batch/s, mse=0.0299]\n"
     ]
    },
    {
     "name": "stdout",
     "output_type": "stream",
     "text": [
      "Best model saved at Epoch 45\n"
     ]
    },
    {
     "name": "stderr",
     "output_type": "stream",
     "text": [
      "Epoch 46: 100%|██████████| 409/409 [00:02<00:00, 166.80batch/s, mse=0.0298]\n",
      "Epoch 47: 100%|██████████| 409/409 [00:02<00:00, 160.23batch/s, mse=0.0296]\n",
      "Epoch 48: 100%|██████████| 409/409 [00:02<00:00, 166.60batch/s, mse=0.0295]\n",
      "Epoch 49: 100%|██████████| 409/409 [00:02<00:00, 165.63batch/s, mse=0.0293]\n",
      "Epoch 50: 100%|██████████| 409/409 [00:02<00:00, 167.94batch/s, mse=0.0291]\n",
      "Epoch 51: 100%|██████████| 409/409 [00:02<00:00, 169.39batch/s, mse=0.0289]\n",
      "Epoch 52: 100%|██████████| 409/409 [00:02<00:00, 166.87batch/s, mse=0.0288]\n",
      "Epoch 53: 100%|██████████| 409/409 [00:02<00:00, 168.51batch/s, mse=0.0286]\n",
      "Epoch 54: 100%|██████████| 409/409 [00:02<00:00, 167.02batch/s, mse=0.0284]\n",
      "Epoch 55: 100%|██████████| 409/409 [00:02<00:00, 169.25batch/s, mse=0.0283]\n",
      "Epoch 56: 100%|██████████| 409/409 [00:02<00:00, 166.43batch/s, mse=0.0281]\n",
      "Epoch 57: 100%|██████████| 409/409 [00:02<00:00, 165.64batch/s, mse=0.028] \n",
      "Epoch 58: 100%|██████████| 409/409 [00:02<00:00, 170.03batch/s, mse=0.0279]\n",
      "Epoch 59: 100%|██████████| 409/409 [00:02<00:00, 166.25batch/s, mse=0.0277]\n",
      "Epoch 60: 100%|██████████| 409/409 [00:02<00:00, 166.55batch/s, mse=0.0276]\n",
      "Epoch 61: 100%|██████████| 409/409 [00:02<00:00, 169.06batch/s, mse=0.0275]\n"
     ]
    },
    {
     "name": "stdout",
     "output_type": "stream",
     "text": [
      "Best model saved at Epoch 61\n"
     ]
    },
    {
     "name": "stderr",
     "output_type": "stream",
     "text": [
      "Epoch 62: 100%|██████████| 409/409 [00:02<00:00, 159.09batch/s, mse=0.0273]\n"
     ]
    },
    {
     "name": "stdout",
     "output_type": "stream",
     "text": [
      "Best model saved at Epoch 62\n"
     ]
    },
    {
     "name": "stderr",
     "output_type": "stream",
     "text": [
      "Epoch 63: 100%|██████████| 409/409 [00:02<00:00, 155.29batch/s, mse=0.0272]\n"
     ]
    },
    {
     "name": "stdout",
     "output_type": "stream",
     "text": [
      "Best model saved at Epoch 63\n"
     ]
    },
    {
     "name": "stderr",
     "output_type": "stream",
     "text": [
      "Epoch 64: 100%|██████████| 409/409 [00:02<00:00, 161.11batch/s, mse=0.0271]\n"
     ]
    },
    {
     "name": "stdout",
     "output_type": "stream",
     "text": [
      "Best model saved at Epoch 64\n"
     ]
    },
    {
     "name": "stderr",
     "output_type": "stream",
     "text": [
      "Epoch 65: 100%|██████████| 409/409 [00:02<00:00, 167.30batch/s, mse=0.027] \n"
     ]
    },
    {
     "name": "stdout",
     "output_type": "stream",
     "text": [
      "Best model saved at Epoch 65\n"
     ]
    },
    {
     "name": "stderr",
     "output_type": "stream",
     "text": [
      "Epoch 66: 100%|██████████| 409/409 [00:02<00:00, 165.30batch/s, mse=0.0269]\n"
     ]
    },
    {
     "name": "stdout",
     "output_type": "stream",
     "text": [
      "Best model saved at Epoch 66\n"
     ]
    },
    {
     "name": "stderr",
     "output_type": "stream",
     "text": [
      "Epoch 67: 100%|██████████| 409/409 [00:02<00:00, 170.09batch/s, mse=0.0268]\n"
     ]
    },
    {
     "name": "stdout",
     "output_type": "stream",
     "text": [
      "Best model saved at Epoch 67\n"
     ]
    },
    {
     "name": "stderr",
     "output_type": "stream",
     "text": [
      "Epoch 68: 100%|██████████| 409/409 [00:02<00:00, 163.31batch/s, mse=0.0267]\n"
     ]
    },
    {
     "name": "stdout",
     "output_type": "stream",
     "text": [
      "Best model saved at Epoch 68\n"
     ]
    },
    {
     "name": "stderr",
     "output_type": "stream",
     "text": [
      "Epoch 69: 100%|██████████| 409/409 [00:02<00:00, 169.84batch/s, mse=0.0266]\n"
     ]
    },
    {
     "name": "stdout",
     "output_type": "stream",
     "text": [
      "Best model saved at Epoch 69\n"
     ]
    },
    {
     "name": "stderr",
     "output_type": "stream",
     "text": [
      "Epoch 70: 100%|██████████| 409/409 [00:02<00:00, 167.45batch/s, mse=0.0265]\n"
     ]
    },
    {
     "name": "stdout",
     "output_type": "stream",
     "text": [
      "Best model saved at Epoch 70\n"
     ]
    },
    {
     "name": "stderr",
     "output_type": "stream",
     "text": [
      "Epoch 71: 100%|██████████| 409/409 [00:02<00:00, 172.83batch/s, mse=0.0264]\n"
     ]
    },
    {
     "name": "stdout",
     "output_type": "stream",
     "text": [
      "Best model saved at Epoch 71\n"
     ]
    },
    {
     "name": "stderr",
     "output_type": "stream",
     "text": [
      "Epoch 72: 100%|██████████| 409/409 [00:02<00:00, 173.95batch/s, mse=0.0263]\n"
     ]
    },
    {
     "name": "stdout",
     "output_type": "stream",
     "text": [
      "Best model saved at Epoch 72\n"
     ]
    },
    {
     "name": "stderr",
     "output_type": "stream",
     "text": [
      "Epoch 73: 100%|██████████| 409/409 [00:02<00:00, 178.56batch/s, mse=0.0262]\n"
     ]
    },
    {
     "name": "stdout",
     "output_type": "stream",
     "text": [
      "Best model saved at Epoch 73\n"
     ]
    },
    {
     "name": "stderr",
     "output_type": "stream",
     "text": [
      "Epoch 74: 100%|██████████| 409/409 [00:02<00:00, 175.37batch/s, mse=0.0261]\n"
     ]
    },
    {
     "name": "stdout",
     "output_type": "stream",
     "text": [
      "Best model saved at Epoch 74\n"
     ]
    },
    {
     "name": "stderr",
     "output_type": "stream",
     "text": [
      "Epoch 75: 100%|██████████| 409/409 [00:02<00:00, 179.43batch/s, mse=0.026] \n"
     ]
    },
    {
     "name": "stdout",
     "output_type": "stream",
     "text": [
      "Best model saved at Epoch 75\n"
     ]
    },
    {
     "name": "stderr",
     "output_type": "stream",
     "text": [
      "Epoch 76: 100%|██████████| 409/409 [00:02<00:00, 175.77batch/s, mse=0.0259]\n"
     ]
    },
    {
     "name": "stdout",
     "output_type": "stream",
     "text": [
      "Best model saved at Epoch 76\n"
     ]
    },
    {
     "name": "stderr",
     "output_type": "stream",
     "text": [
      "Epoch 77: 100%|██████████| 409/409 [00:02<00:00, 172.09batch/s, mse=0.0259]\n"
     ]
    },
    {
     "name": "stdout",
     "output_type": "stream",
     "text": [
      "Best model saved at Epoch 77\n"
     ]
    },
    {
     "name": "stderr",
     "output_type": "stream",
     "text": [
      "Epoch 78: 100%|██████████| 409/409 [00:02<00:00, 168.43batch/s, mse=0.0258]\n"
     ]
    },
    {
     "name": "stdout",
     "output_type": "stream",
     "text": [
      "Best model saved at Epoch 78\n"
     ]
    },
    {
     "name": "stderr",
     "output_type": "stream",
     "text": [
      "Epoch 79: 100%|██████████| 409/409 [00:02<00:00, 173.18batch/s, mse=0.0257]\n"
     ]
    },
    {
     "name": "stdout",
     "output_type": "stream",
     "text": [
      "Best model saved at Epoch 79\n"
     ]
    },
    {
     "name": "stderr",
     "output_type": "stream",
     "text": [
      "Epoch 80: 100%|██████████| 409/409 [00:02<00:00, 171.31batch/s, mse=0.0256]\n"
     ]
    },
    {
     "name": "stdout",
     "output_type": "stream",
     "text": [
      "Best model saved at Epoch 80\n"
     ]
    },
    {
     "name": "stderr",
     "output_type": "stream",
     "text": [
      "Epoch 81: 100%|██████████| 409/409 [00:02<00:00, 169.58batch/s, mse=0.0256]\n"
     ]
    },
    {
     "name": "stdout",
     "output_type": "stream",
     "text": [
      "Best model saved at Epoch 81\n"
     ]
    },
    {
     "name": "stderr",
     "output_type": "stream",
     "text": [
      "Epoch 82: 100%|██████████| 409/409 [00:02<00:00, 160.30batch/s, mse=0.0255]\n"
     ]
    },
    {
     "name": "stdout",
     "output_type": "stream",
     "text": [
      "Best model saved at Epoch 82\n"
     ]
    },
    {
     "name": "stderr",
     "output_type": "stream",
     "text": [
      "Epoch 83: 100%|██████████| 409/409 [00:02<00:00, 170.31batch/s, mse=0.0254]\n"
     ]
    },
    {
     "name": "stdout",
     "output_type": "stream",
     "text": [
      "Best model saved at Epoch 83\n"
     ]
    },
    {
     "name": "stderr",
     "output_type": "stream",
     "text": [
      "Epoch 84: 100%|██████████| 409/409 [00:02<00:00, 159.45batch/s, mse=0.0254]\n"
     ]
    },
    {
     "name": "stdout",
     "output_type": "stream",
     "text": [
      "Best model saved at Epoch 84\n"
     ]
    },
    {
     "name": "stderr",
     "output_type": "stream",
     "text": [
      "Epoch 85: 100%|██████████| 409/409 [00:02<00:00, 151.41batch/s, mse=0.0253]\n"
     ]
    },
    {
     "name": "stdout",
     "output_type": "stream",
     "text": [
      "Best model saved at Epoch 85\n"
     ]
    },
    {
     "name": "stderr",
     "output_type": "stream",
     "text": [
      "Epoch 86: 100%|██████████| 409/409 [00:02<00:00, 157.25batch/s, mse=0.0252]\n"
     ]
    },
    {
     "name": "stdout",
     "output_type": "stream",
     "text": [
      "Best model saved at Epoch 86\n"
     ]
    },
    {
     "name": "stderr",
     "output_type": "stream",
     "text": [
      "Epoch 87: 100%|██████████| 409/409 [00:02<00:00, 145.99batch/s, mse=0.0252]\n"
     ]
    },
    {
     "name": "stdout",
     "output_type": "stream",
     "text": [
      "Best model saved at Epoch 87\n"
     ]
    },
    {
     "name": "stderr",
     "output_type": "stream",
     "text": [
      "Epoch 88: 100%|██████████| 409/409 [00:02<00:00, 145.73batch/s, mse=0.0251]\n"
     ]
    },
    {
     "name": "stdout",
     "output_type": "stream",
     "text": [
      "Best model saved at Epoch 88\n"
     ]
    },
    {
     "name": "stderr",
     "output_type": "stream",
     "text": [
      "Epoch 89: 100%|██████████| 409/409 [00:02<00:00, 144.61batch/s, mse=0.0251]\n"
     ]
    },
    {
     "name": "stdout",
     "output_type": "stream",
     "text": [
      "Best model saved at Epoch 89\n"
     ]
    },
    {
     "name": "stderr",
     "output_type": "stream",
     "text": [
      "Epoch 90: 100%|██████████| 409/409 [00:02<00:00, 155.18batch/s, mse=0.025] \n"
     ]
    },
    {
     "name": "stdout",
     "output_type": "stream",
     "text": [
      "Best model saved at Epoch 90\n"
     ]
    },
    {
     "name": "stderr",
     "output_type": "stream",
     "text": [
      "Epoch 91: 100%|██████████| 409/409 [00:02<00:00, 156.30batch/s, mse=0.025] \n"
     ]
    },
    {
     "name": "stdout",
     "output_type": "stream",
     "text": [
      "Best model saved at Epoch 91\n"
     ]
    },
    {
     "name": "stderr",
     "output_type": "stream",
     "text": [
      "Epoch 92: 100%|██████████| 409/409 [00:02<00:00, 141.91batch/s, mse=0.0249]\n"
     ]
    },
    {
     "name": "stdout",
     "output_type": "stream",
     "text": [
      "Best model saved at Epoch 92\n"
     ]
    },
    {
     "name": "stderr",
     "output_type": "stream",
     "text": [
      "Epoch 93: 100%|██████████| 409/409 [00:02<00:00, 146.35batch/s, mse=0.0249]\n"
     ]
    },
    {
     "name": "stdout",
     "output_type": "stream",
     "text": [
      "Best model saved at Epoch 93\n"
     ]
    },
    {
     "name": "stderr",
     "output_type": "stream",
     "text": [
      "Epoch 94: 100%|██████████| 409/409 [00:02<00:00, 155.82batch/s, mse=0.0248]\n"
     ]
    },
    {
     "name": "stdout",
     "output_type": "stream",
     "text": [
      "Best model saved at Epoch 94\n"
     ]
    },
    {
     "name": "stderr",
     "output_type": "stream",
     "text": [
      "Epoch 95: 100%|██████████| 409/409 [00:02<00:00, 148.39batch/s, mse=0.0248]\n"
     ]
    },
    {
     "name": "stdout",
     "output_type": "stream",
     "text": [
      "Best model saved at Epoch 95\n"
     ]
    },
    {
     "name": "stderr",
     "output_type": "stream",
     "text": [
      "Epoch 96: 100%|██████████| 409/409 [00:02<00:00, 152.74batch/s, mse=0.0247]\n"
     ]
    },
    {
     "name": "stdout",
     "output_type": "stream",
     "text": [
      "Best model saved at Epoch 96\n"
     ]
    },
    {
     "name": "stderr",
     "output_type": "stream",
     "text": [
      "Epoch 97: 100%|██████████| 409/409 [00:02<00:00, 154.56batch/s, mse=0.0247]\n"
     ]
    },
    {
     "name": "stdout",
     "output_type": "stream",
     "text": [
      "Best model saved at Epoch 97\n"
     ]
    },
    {
     "name": "stderr",
     "output_type": "stream",
     "text": [
      "Epoch 98: 100%|██████████| 409/409 [00:02<00:00, 152.22batch/s, mse=0.0246]\n"
     ]
    },
    {
     "name": "stdout",
     "output_type": "stream",
     "text": [
      "Best model saved at Epoch 98\n"
     ]
    },
    {
     "name": "stderr",
     "output_type": "stream",
     "text": [
      "Epoch 99: 100%|██████████| 409/409 [00:02<00:00, 151.60batch/s, mse=0.0246]\n"
     ]
    },
    {
     "name": "stdout",
     "output_type": "stream",
     "text": [
      "Best model saved at Epoch 99\n"
     ]
    },
    {
     "name": "stderr",
     "output_type": "stream",
     "text": [
      "Epoch 100: 100%|██████████| 409/409 [00:02<00:00, 151.51batch/s, mse=0.0245]\n"
     ]
    },
    {
     "name": "stdout",
     "output_type": "stream",
     "text": [
      "Best model saved at Epoch 100\n",
      "MSE: 0.01\n"
     ]
    },
    {
     "data": {
      "image/png": "[encoded data removed]",
      "text/plain": [
       "<Figure size 640x480 with 1 Axes>"
      ]
     },
     "metadata": {},
     "output_type": "display_data"
    }
   ],
   "source": [
    "train(epochs=100, hiddendim=64, lossfcn='mse', opt='adam', lr=1e-3)"
   ]
  },
  {
   "cell_type": "markdown",
   "metadata": {},
   "source": [
    "### 5. Test"
   ]
  },
  {
   "cell_type": "code",
   "execution_count": 40,
   "metadata": {},
   "outputs": [],
   "source": [
    "def test(epochs, hiddendim, lossfcn, opt, lr):\n",
    "    TEST_MODEL_PATH = f\"./best_models/epochs_{epochs}-hiddendim_{hiddendim}-lossfcn_{lossfcn}-opt_{opt}-lr_{lr}.pth\"\n",
    "    model = CropYieldPredictor(input_dim=input.shape[2], hidden_dim=hiddendim).to(device)\n",
    "    model.load_state_dict(torch.load(TEST_MODEL_PATH))\n",
    "    loss_func_types = dict(\n",
    "        mse=nn.MSELoss(),\n",
    "        mae=nn.L1Loss()\n",
    "    )\n",
    "    loss_fcn = loss_func_types[lossfcn]\n",
    "\n",
    "    model.eval()\n",
    "    cum_mse_test = 0\n",
    "    cnt_test = 0\n",
    "    for resnet_features, ar_term, target in test_dataloader:\n",
    "        resnet_features, ar_term, target = resnet_features.to(device), ar_term.to(device), target.to(device)\n",
    "        model.hidden = model.init_hidden()\n",
    "        output = model(resnet_features, ar_term, val_start_month[cnt_test])\n",
    "        loss = loss_fcn(output, target)\n",
    "        cum_mse_test += float(loss)\n",
    "        cnt_test += 1\n",
    "    avg_mse_test = cum_mse_test/(cnt_test)\n",
    "    print(f\"Test MSE: {avg_mse_test}\")"
   ]
  },
  {
   "cell_type": "code",
   "execution_count": 46,
   "metadata": {},
   "outputs": [
    {
     "name": "stdout",
     "output_type": "stream",
     "text": [
      "Test MSE: 0.0005852324538864195\n"
     ]
    }
   ],
   "source": [
    "test(100, 512, 'mse', 'adam', 1e-3)"
   ]
  },
  {
   "cell_type": "code",
   "execution_count": 44,
   "metadata": {},
   "outputs": [
    {
     "name": "stdout",
     "output_type": "stream",
     "text": [
      "Test MSE: 0.00138481380417943\n"
     ]
    }
   ],
   "source": [
    "test(100, 256, 'mse', 'adam', 1e-3)"
   ]
  },
  {
   "cell_type": "code",
   "execution_count": 42,
   "metadata": {},
   "outputs": [
    {
     "name": "stdout",
     "output_type": "stream",
     "text": [
      "Test MSE: 0.0050458903424441814\n"
     ]
    }
   ],
   "source": [
    "test(100, 128, 'mse', 'adam', 1e-3)"
   ]
  },
  {
   "cell_type": "code",
   "execution_count": 41,
   "metadata": {},
   "outputs": [
    {
     "name": "stdout",
     "output_type": "stream",
     "text": [
      "Test MSE: 0.005677593406289816\n"
     ]
    },
    {
     "name": "stderr",
     "output_type": "stream",
     "text": [
      "c:\\Users\\1suof\\miniconda3\\envs\\dl4ds-final\\Lib\\site-packages\\torch\\nn\\modules\\loss.py:535: UserWarning: Using a target size (torch.Size([1])) that is different to the input size (torch.Size([1, 1])). This will likely lead to incorrect results due to broadcasting. Please ensure they have the same size.\n",
      "  return F.mse_loss(input, target, reduction=self.reduction)\n"
     ]
    }
   ],
   "source": [
    "test(100, 64, 'mse', 'adam', 1e-3)"
   ]
  },
  {
   "cell_type": "code",
   "execution_count": null,
   "metadata": {},
   "outputs": [],
   "source": []
  },
  {
   "cell_type": "code",
   "execution_count": null,
   "metadata": {},
   "outputs": [],
   "source": []
  },
  {
   "cell_type": "code",
   "execution_count": null,
   "metadata": {},
   "outputs": [],
   "source": []
  }
 ],
 "metadata": {
  "kernelspec": {
   "display_name": "dl4ds-final",
   "language": "python",
   "name": "python3"
  },
  "language_info": {
   "codemirror_mode": {
    "name": "ipython",
    "version": 3
   },
   "file_extension": ".py",
   "mimetype": "text/x-python",
   "name": "python",
   "nbconvert_exporter": "python",
   "pygments_lexer": "ipython3",
   "version": "3.11.8"
  }
 },
 "nbformat": 4,
 "nbformat_minor": 2
}
