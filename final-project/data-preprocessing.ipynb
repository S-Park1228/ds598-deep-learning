{
 "cells": [
  {
   "cell_type": "markdown",
   "metadata": {},
   "source": [
    "### 1. Import necessary modules"
   ]
  },
  {
   "cell_type": "code",
   "execution_count": 1,
   "metadata": {},
   "outputs": [],
   "source": [
    "import os\n",
    "import numpy as np\n",
    "import pandas as pd\n",
    "\n",
    "import torch\n",
    "import torch.nn as nn\n",
    "from torch.utils.data import DataLoader\n",
    "from torchvision import models, transforms"
   ]
  },
  {
   "cell_type": "code",
   "execution_count": 2,
   "metadata": {},
   "outputs": [],
   "source": [
    "device = torch.device(\"cuda:0\" if torch.cuda.is_available() else \"cpu\")"
   ]
  },
  {
   "cell_type": "markdown",
   "metadata": {},
   "source": [
    "### 2. Specify data paths"
   ]
  },
  {
   "cell_type": "code",
   "execution_count": 3,
   "metadata": {},
   "outputs": [],
   "source": [
    "DATADIR = './cdsdata'\n",
    "\n",
    "DATADIR_TEMP = os.path.join(DATADIR, 'temperature')\n",
    "if not os.path.exists(DATADIR_TEMP):\n",
    "    os.makedirs(DATADIR_TEMP)\n",
    "\n",
    "DATADIR_PRECIP = os.path.join(DATADIR, 'precipitation')\n",
    "if not os.path.exists(DATADIR_PRECIP):\n",
    "    os.makedirs(DATADIR_PRECIP)"
   ]
  },
  {
   "cell_type": "code",
   "execution_count": 5,
   "metadata": {},
   "outputs": [],
   "source": [
    "years = [\n",
    "    '1979', '1980', '1981',\n",
    "    '1982', '1983', '1984',\n",
    "    '1985', '1986', '1987',\n",
    "    '1988', '1989', '1990',\n",
    "    '1991', '1992', '1993',\n",
    "    '1994', '1995', '1996',\n",
    "    '1997', '1998', '1999',\n",
    "    '2000', '2001', '2002',\n",
    "    '2003', '2004', '2005',\n",
    "    '2006', '2007', '2008',\n",
    "    '2009', '2010', '2011',\n",
    "    '2012', '2013', '2014',\n",
    "    '2015', '2016', '2017',\n",
    "    '2018', '2019'\n",
    "]\n",
    "\n",
    "months = [\n",
    "    '01', '02', '03',\n",
    "    '04', '05', '06',\n",
    "    '07', '08', '09',\n",
    "    '10', '11', '12'\n",
    "]"
   ]
  },
  {
   "cell_type": "markdown",
   "metadata": {},
   "source": [
    "### 3. Extract features through ResNet"
   ]
  },
  {
   "cell_type": "code",
   "execution_count": 8,
   "metadata": {},
   "outputs": [],
   "source": [
    "# inputs for ResNet\n",
    "temperature_data = []\n",
    "\n",
    "data_transforms = transforms.Compose(\n",
    "    [\n",
    "        transforms.ToTensor(),\n",
    "        transforms.Normalize([0.485, 0.456, 0.406], [0.229, 0.224, 0.225])\n",
    "    ]\n",
    ")\n",
    "\n",
    "for y in years:\n",
    "    for m in months:\n",
    "        with open(f'{DATADIR_TEMP}\\\\{y}-{m}.npy', 'rb') as f:\n",
    "            temperature_ndarray = np.transpose(np.load(f), (1, 2, 0))\n",
    "        temperature_transformed = data_transforms(temperature_ndarray.astype(float))\n",
    "        temperature_data.append(temperature_transformed)\n",
    "\n",
    "my_temperature_dataloader = DataLoader(temperature_data)#, batch_size=1) # create dataloader\n",
    "\n",
    "# for y in years:\n",
    "#     for m in months:\n",
    "#         with open(f'{DATADIR_TEMP}\\\\{y}-{m}.npy', 'rb') as f:\n",
    "#             temperature_ndarray = np.load(f)\n",
    "#             for t in range(3):\n",
    "#                 temperature_data.append(temperature_ndarray[t])\n",
    "\n",
    "# tensor_temperature = torch.Tensor(np.array(temperature_data)) # transform to torch tensor\n",
    "\n",
    "# my_temperature = TensorDataset(tensor_temperature,) # create datset\n",
    "# my_temperature_dataloader = DataLoader(my_temperature, batch_size=12) # create dataloader"
   ]
  },
  {
   "cell_type": "code",
   "execution_count": 9,
   "metadata": {},
   "outputs": [
    {
     "name": "stderr",
     "output_type": "stream",
     "text": [
      "c:\\Users\\1suof\\miniconda3\\envs\\dl4ds-final\\Lib\\site-packages\\torchvision\\models\\_utils.py:208: UserWarning: The parameter 'pretrained' is deprecated since 0.13 and may be removed in the future, please use 'weights' instead.\n",
      "  warnings.warn(\n",
      "c:\\Users\\1suof\\miniconda3\\envs\\dl4ds-final\\Lib\\site-packages\\torchvision\\models\\_utils.py:223: UserWarning: Arguments other than a weight enum or `None` for 'weights' are deprecated since 0.13 and may be removed in the future. The current behavior is equivalent to passing `weights=ResNet18_Weights.IMAGENET1K_V1`. You can also use `weights=ResNet18_Weights.DEFAULT` to get the most up-to-date weights.\n",
      "  warnings.warn(msg)\n"
     ]
    }
   ],
   "source": [
    "# ResNet15\n",
    "model_conv = models.resnet18(pretrained=True)\n",
    "modules=list(model_conv.children())[:-1]\n",
    "resnet15=nn.Sequential(*modules)\n",
    "for p in resnet15.parameters():\n",
    "    p.requires_grad = False"
   ]
  },
  {
   "cell_type": "code",
   "execution_count": 10,
   "metadata": {},
   "outputs": [
    {
     "name": "stdout",
     "output_type": "stream",
     "text": [
      "torch.Size([492, 512])\n"
     ]
    }
   ],
   "source": [
    "# temperature features\n",
    "for idx, img in enumerate(my_temperature_dataloader):\n",
    "    if idx == 0:\n",
    "        temp_features = torch.squeeze(resnet15(img.float()), (2, 3))\n",
    "    else:\n",
    "        temp_features = torch.concat((temp_features, torch.squeeze(resnet15(img.float()), (2, 3))), dim=0)\n",
    "\n",
    "print(temp_features.shape)"
   ]
  },
  {
   "cell_type": "code",
   "execution_count": 12,
   "metadata": {},
   "outputs": [],
   "source": [
    "# inputs for ResNet\n",
    "precipitation_data = []\n",
    "\n",
    "data_transforms = transforms.Compose(\n",
    "    [\n",
    "        transforms.ToTensor(),\n",
    "        transforms.Normalize([0.485, 0.456, 0.406], [0.229, 0.224, 0.225])\n",
    "    ]\n",
    ")\n",
    "\n",
    "for y in years:\n",
    "    for m in months:\n",
    "        with open(f'{DATADIR_PRECIP}\\\\{y}-{m}.npy', 'rb') as f:\n",
    "            precipitation_ndarray = np.transpose(np.load(f), (1, 2, 0))\n",
    "        precipitation_transformed = data_transforms(precipitation_ndarray)\n",
    "        precipitation_data.append(precipitation_transformed)\n",
    "\n",
    "my_precipitation_dataloader = DataLoader(precipitation_data)#, batch_size=1) # create dataloader"
   ]
  },
  {
   "cell_type": "code",
   "execution_count": 13,
   "metadata": {},
   "outputs": [
    {
     "name": "stdout",
     "output_type": "stream",
     "text": [
      "torch.Size([492, 512])\n"
     ]
    }
   ],
   "source": [
    "# precipitation features\n",
    "for idx, img in enumerate(my_precipitation_dataloader):\n",
    "    if idx == 0:\n",
    "        precip_features = torch.squeeze(resnet15(img), (2, 3))\n",
    "    else:\n",
    "        precip_features = torch.concat((precip_features, torch.squeeze(resnet15(img), (2, 3))), dim=0)\n",
    "\n",
    "print(precip_features.shape)"
   ]
  },
  {
   "cell_type": "code",
   "execution_count": 19,
   "metadata": {},
   "outputs": [],
   "source": [
    "# concatenated features\n",
    "concatenated_features = torch.concat((temp_features, precip_features), dim=1)"
   ]
  },
  {
   "cell_type": "markdown",
   "metadata": {},
   "source": [
    "### 4. Load target data"
   ]
  },
  {
   "cell_type": "code",
   "execution_count": 24,
   "metadata": {},
   "outputs": [
    {
     "name": "stdout",
     "output_type": "stream",
     "text": [
      "    year  wheat_yield\n",
      "18  1979       1.8522\n",
      "19  1980       1.8554\n",
      "20  1981       1.8800\n",
      "21  1982       1.9992\n",
      "22  1983       2.1258\n",
      "23  1984       2.2201\n",
      "24  1985       2.1719\n",
      "25  1986       2.3213\n",
      "26  1987       2.2900\n",
      "27  1988       2.2926\n",
      "28  1989       2.3732\n",
      "29  1990       2.5626\n",
      "30  1991       2.4414\n",
      "31  1992       2.5340\n",
      "32  1993       2.5370\n",
      "33  1994       2.4777\n",
      "34  1995       2.4958\n",
      "35  1996       2.5640\n",
      "36  1997       2.7157\n",
      "37  1998       2.7063\n",
      "38  1999       2.7462\n",
      "39  2000       2.7316\n",
      "40  2001       2.7417\n",
      "41  2002       2.7551\n",
      "42  2003       2.6514\n",
      "43  2004       2.9426\n",
      "44  2005       2.8287\n",
      "45  2006       2.8905\n",
      "46  2007       2.8154\n",
      "47  2008       3.0625\n",
      "48  2009       3.0356\n",
      "49  2010       2.9721\n",
      "50  2011       3.1639\n",
      "51  2012       3.0934\n",
      "52  2013       3.2512\n",
      "53  2014       3.3195\n",
      "54  2015       3.3272\n",
      "55  2016       3.4183\n",
      "56  2017       3.5410\n",
      "57  2018       3.4225\n",
      "58  2019       3.5414\n"
     ]
    },
    {
     "name": "stderr",
     "output_type": "stream",
     "text": [
      "C:\\Users\\1suof\\AppData\\Local\\Temp\\ipykernel_11772\\3844231596.py:9: UserWarning: Boolean Series key will be reindexed to match DataFrame index.\n",
      "  df = df[df['year'] >= 1979][df['year'] < 2020]\n"
     ]
    }
   ],
   "source": [
    "# target data path\n",
    "DATADIR_TARGET = './target'\n",
    "\n",
    "# Specify the column names that you want to load\n",
    "columns_to_load = ['year', 'wheat_yield'] # wheat yield per hectare\n",
    "\n",
    "# Load the csv file\n",
    "df = pd.read_csv(f'{DATADIR_TARGET}\\\\our-world-in-data-crop-yields.csv', usecols=columns_to_load)\n",
    "df = df[df['year'] >= 1979][df['year'] < 2020]\n",
    "\n",
    "# Now df will only contain the specified columns\n",
    "print(df)"
   ]
  },
  {
   "cell_type": "code",
   "execution_count": 25,
   "metadata": {},
   "outputs": [
    {
     "data": {
      "text/plain": [
       "tensor([1.8522, 1.8554, 1.8800, 1.9992, 2.1258, 2.2201, 2.1719, 2.3213, 2.2900,\n",
       "        2.2926, 2.3732, 2.5626, 2.4414, 2.5340, 2.5370, 2.4777, 2.4958, 2.5640,\n",
       "        2.7157, 2.7063, 2.7462, 2.7316, 2.7417, 2.7551, 2.6514, 2.9426, 2.8287,\n",
       "        2.8905, 2.8154, 3.0625, 3.0356, 2.9721, 3.1639, 3.0934, 3.2512, 3.3195,\n",
       "        3.3272, 3.4183, 3.5410, 3.4225, 3.5414], dtype=torch.float64)"
      ]
     },
     "execution_count": 25,
     "metadata": {},
     "output_type": "execute_result"
    }
   ],
   "source": [
    "tensor_target = torch.tensor(df['wheat_yield'].values)\n",
    "tensor_target"
   ]
  },
  {
   "cell_type": "markdown",
   "metadata": {},
   "source": [
    "### 5. Inputs and target for the LSTM block"
   ]
  },
  {
   "cell_type": "code",
   "execution_count": 21,
   "metadata": {},
   "outputs": [
    {
     "name": "stdout",
     "output_type": "stream",
     "text": [
      "torch.Size([481, 12, 1024])\n"
     ]
    }
   ],
   "source": [
    "# 12-month length of temperature and precipitation features\n",
    "# temperature_features = torch.load(f'{DATADIR_TEMP}\\\\temperature_features.pt')\n",
    "# precipitation_features = torch.load(f'{DATADIR_PRECIP}\\\\precipitation_features.pt')\n",
    "\n",
    "for i in range(concatenated_features.shape[0]-12+1):\n",
    "    if i == 0:\n",
    "        concatenated_features_12 = concatenated_features[i:i+12].unsqueeze(0)\n",
    "        #precipitation_features_12 = precipitation_features[i:i+12].unsqueeze(0)\n",
    "    else:\n",
    "        concatenated_features_12 = torch.concat((concatenated_features_12, concatenated_features[i:i+12].unsqueeze(0)), dim=0)\n",
    "        #precipitation_features_12 = torch.concat((precipitation_features_12, precipitation_features[i:i+12].unsqueeze(0)), dim=0)\n",
    "\n",
    "print(concatenated_features_12.shape)\n",
    "#print(precipitation_features_12.shape)"
   ]
  },
  {
   "cell_type": "code",
   "execution_count": 22,
   "metadata": {},
   "outputs": [],
   "source": [
    "# save lstm input data\n",
    "INPUT = os.path.join(os.getcwd(), 'data')\n",
    "if not os.path.exists(INPUT):\n",
    "    os.makedirs(INPUT)\n",
    "\n",
    "torch.save(concatenated_features_12, './data/lstm-inputs.pt')"
   ]
  },
  {
   "cell_type": "code",
   "execution_count": 26,
   "metadata": {},
   "outputs": [
    {
     "name": "stdout",
     "output_type": "stream",
     "text": [
      "torch.Size([481])\n",
      "tensor([1.8522, 1.8554, 1.8554, 1.8554, 1.8554, 1.8554, 1.8554, 1.8554, 1.8554,\n",
      "        1.8554, 1.8554, 1.8554, 1.8554, 1.8800, 1.8800, 1.8800, 1.8800, 1.8800,\n",
      "        1.8800, 1.8800, 1.8800, 1.8800, 1.8800, 1.8800, 1.8800, 1.9992, 1.9992,\n",
      "        1.9992, 1.9992, 1.9992, 1.9992, 1.9992, 1.9992, 1.9992, 1.9992, 1.9992,\n",
      "        1.9992, 2.1258, 2.1258, 2.1258, 2.1258, 2.1258, 2.1258, 2.1258, 2.1258,\n",
      "        2.1258, 2.1258, 2.1258, 2.1258, 2.2201, 2.2201, 2.2201, 2.2201, 2.2201,\n",
      "        2.2201, 2.2201, 2.2201, 2.2201, 2.2201, 2.2201, 2.2201, 2.1719, 2.1719,\n",
      "        2.1719, 2.1719, 2.1719, 2.1719, 2.1719, 2.1719, 2.1719, 2.1719, 2.1719,\n",
      "        2.1719, 2.3213, 2.3213, 2.3213, 2.3213, 2.3213, 2.3213, 2.3213, 2.3213,\n",
      "        2.3213, 2.3213, 2.3213, 2.3213, 2.2900, 2.2900, 2.2900, 2.2900, 2.2900,\n",
      "        2.2900, 2.2900, 2.2900, 2.2900, 2.2900, 2.2900, 2.2900, 2.2926, 2.2926,\n",
      "        2.2926, 2.2926, 2.2926, 2.2926, 2.2926, 2.2926, 2.2926, 2.2926, 2.2926,\n",
      "        2.2926, 2.3732, 2.3732, 2.3732, 2.3732, 2.3732, 2.3732, 2.3732, 2.3732,\n",
      "        2.3732, 2.3732, 2.3732, 2.3732, 2.5626, 2.5626, 2.5626, 2.5626, 2.5626,\n",
      "        2.5626, 2.5626, 2.5626, 2.5626, 2.5626, 2.5626, 2.5626, 2.4414, 2.4414,\n",
      "        2.4414, 2.4414, 2.4414, 2.4414, 2.4414, 2.4414, 2.4414, 2.4414, 2.4414,\n",
      "        2.4414, 2.5340, 2.5340, 2.5340, 2.5340, 2.5340, 2.5340, 2.5340, 2.5340,\n",
      "        2.5340, 2.5340, 2.5340, 2.5340, 2.5370, 2.5370, 2.5370, 2.5370, 2.5370,\n",
      "        2.5370, 2.5370, 2.5370, 2.5370, 2.5370, 2.5370, 2.5370, 2.4777, 2.4777,\n",
      "        2.4777, 2.4777, 2.4777, 2.4777, 2.4777, 2.4777, 2.4777, 2.4777, 2.4777,\n",
      "        2.4777, 2.4958, 2.4958, 2.4958, 2.4958, 2.4958, 2.4958, 2.4958, 2.4958,\n",
      "        2.4958, 2.4958, 2.4958, 2.4958, 2.5640, 2.5640, 2.5640, 2.5640, 2.5640,\n",
      "        2.5640, 2.5640, 2.5640, 2.5640, 2.5640, 2.5640, 2.5640, 2.7157, 2.7157,\n",
      "        2.7157, 2.7157, 2.7157, 2.7157, 2.7157, 2.7157, 2.7157, 2.7157, 2.7157,\n",
      "        2.7157, 2.7063, 2.7063, 2.7063, 2.7063, 2.7063, 2.7063, 2.7063, 2.7063,\n",
      "        2.7063, 2.7063, 2.7063, 2.7063, 2.7462, 2.7462, 2.7462, 2.7462, 2.7462,\n",
      "        2.7462, 2.7462, 2.7462, 2.7462, 2.7462, 2.7462, 2.7462, 2.7316, 2.7316,\n",
      "        2.7316, 2.7316, 2.7316, 2.7316, 2.7316, 2.7316, 2.7316, 2.7316, 2.7316,\n",
      "        2.7316, 2.7417, 2.7417, 2.7417, 2.7417, 2.7417, 2.7417, 2.7417, 2.7417,\n",
      "        2.7417, 2.7417, 2.7417, 2.7417, 2.7551, 2.7551, 2.7551, 2.7551, 2.7551,\n",
      "        2.7551, 2.7551, 2.7551, 2.7551, 2.7551, 2.7551, 2.7551, 2.6514, 2.6514,\n",
      "        2.6514, 2.6514, 2.6514, 2.6514, 2.6514, 2.6514, 2.6514, 2.6514, 2.6514,\n",
      "        2.6514, 2.9426, 2.9426, 2.9426, 2.9426, 2.9426, 2.9426, 2.9426, 2.9426,\n",
      "        2.9426, 2.9426, 2.9426, 2.9426, 2.8287, 2.8287, 2.8287, 2.8287, 2.8287,\n",
      "        2.8287, 2.8287, 2.8287, 2.8287, 2.8287, 2.8287, 2.8287, 2.8905, 2.8905,\n",
      "        2.8905, 2.8905, 2.8905, 2.8905, 2.8905, 2.8905, 2.8905, 2.8905, 2.8905,\n",
      "        2.8905, 2.8154, 2.8154, 2.8154, 2.8154, 2.8154, 2.8154, 2.8154, 2.8154,\n",
      "        2.8154, 2.8154, 2.8154, 2.8154, 3.0625, 3.0625, 3.0625, 3.0625, 3.0625,\n",
      "        3.0625, 3.0625, 3.0625, 3.0625, 3.0625, 3.0625, 3.0625, 3.0356, 3.0356,\n",
      "        3.0356, 3.0356, 3.0356, 3.0356, 3.0356, 3.0356, 3.0356, 3.0356, 3.0356,\n",
      "        3.0356, 2.9721, 2.9721, 2.9721, 2.9721, 2.9721, 2.9721, 2.9721, 2.9721,\n",
      "        2.9721, 2.9721, 2.9721, 2.9721, 3.1639, 3.1639, 3.1639, 3.1639, 3.1639,\n",
      "        3.1639, 3.1639, 3.1639, 3.1639, 3.1639, 3.1639, 3.1639, 3.0934, 3.0934,\n",
      "        3.0934, 3.0934, 3.0934, 3.0934, 3.0934, 3.0934, 3.0934, 3.0934, 3.0934,\n",
      "        3.0934, 3.2512, 3.2512, 3.2512, 3.2512, 3.2512, 3.2512, 3.2512, 3.2512,\n",
      "        3.2512, 3.2512, 3.2512, 3.2512, 3.3195, 3.3195, 3.3195, 3.3195, 3.3195,\n",
      "        3.3195, 3.3195, 3.3195, 3.3195, 3.3195, 3.3195, 3.3195, 3.3272, 3.3272,\n",
      "        3.3272, 3.3272, 3.3272, 3.3272, 3.3272, 3.3272, 3.3272, 3.3272, 3.3272,\n",
      "        3.3272, 3.4183, 3.4183, 3.4183, 3.4183, 3.4183, 3.4183, 3.4183, 3.4183,\n",
      "        3.4183, 3.4183, 3.4183, 3.4183, 3.5410, 3.5410, 3.5410, 3.5410, 3.5410,\n",
      "        3.5410, 3.5410, 3.5410, 3.5410, 3.5410, 3.5410, 3.5410, 3.4225, 3.4225,\n",
      "        3.4225, 3.4225, 3.4225, 3.4225, 3.4225, 3.4225, 3.4225, 3.4225, 3.4225,\n",
      "        3.4225, 3.5414, 3.5414, 3.5414, 3.5414, 3.5414, 3.5414, 3.5414, 3.5414,\n",
      "        3.5414, 3.5414, 3.5414, 3.5414])\n"
     ]
    }
   ],
   "source": [
    "# 12-month length of target data\n",
    "target = torch.zeros(concatenated_features_12.shape[0],)\n",
    "\n",
    "for i in range(target.shape[0]):\n",
    "    q, r = divmod(i, 12)\n",
    "    \n",
    "    if r == 0:\n",
    "        target[i] = tensor_target[q]\n",
    "    else:\n",
    "        target[i] = tensor_target[q+1]\n",
    "\n",
    "print(target.shape)\n",
    "print(target)"
   ]
  },
  {
   "cell_type": "code",
   "execution_count": 27,
   "metadata": {},
   "outputs": [],
   "source": [
    "# save lstm target data\n",
    "torch.save(target, './data/lstm-target.pt')"
   ]
  },
  {
   "cell_type": "code",
   "execution_count": null,
   "metadata": {},
   "outputs": [],
   "source": []
  }
 ],
 "metadata": {
  "kernelspec": {
   "display_name": "dl4ds-final",
   "language": "python",
   "name": "python3"
  },
  "language_info": {
   "codemirror_mode": {
    "name": "ipython",
    "version": 3
   },
   "file_extension": ".py",
   "mimetype": "text/x-python",
   "name": "python",
   "nbconvert_exporter": "python",
   "pygments_lexer": "ipython3",
   "version": "3.11.8"
  }
 },
 "nbformat": 4,
 "nbformat_minor": 2
}
